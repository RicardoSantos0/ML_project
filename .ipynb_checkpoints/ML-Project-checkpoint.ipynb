{
 "cells": [
  {
   "cell_type": "code",
   "execution_count": 1,
   "metadata": {},
   "outputs": [],
   "source": [
    "#importar libraries\n",
    "\n",
    "import numpy as np\n",
    "import scipy\n",
    "import pandas as pd\n",
    "import datetime as dt"
   ]
  },
  {
   "cell_type": "code",
   "execution_count": 2,
   "metadata": {},
   "outputs": [],
   "source": [
    "train = pd.read_excel(\"Train.xlsx\")\n",
    "test = pd.read_excel(\"Test.xlsx\")"
   ]
  },
  {
   "cell_type": "code",
   "execution_count": 3,
   "metadata": {},
   "outputs": [],
   "source": [
    "train_0 = train.loc[train['Income'] == 0]\n",
    "train_1 = train.loc[train['Income'] == 1]\n",
    "# Income = 0 - Rendimento =< da média\n",
    "# Income = 1 - Rendimento > da média"
   ]
  },
  {
   "cell_type": "code",
   "execution_count": 4,
   "metadata": {},
   "outputs": [
    {
     "name": "stdout",
     "output_type": "stream",
     "text": [
      "Nº de pessoas com rendimento = 0: 17089\n",
      "Nº de pessoas com rendimento = 1: 5311\n",
      "% de pessoas com rendimento = 0: 76.29017857142857 %\n",
      "% de pessoas com rendimento = 1: 23.709821428571427 %\n"
     ]
    }
   ],
   "source": [
    "print(\"Nº de pessoas com rendimento = 0:\", len(train_0))\n",
    "print(\"Nº de pessoas com rendimento = 1:\", len(train_1))\n",
    "print(\"% de pessoas com rendimento = 0:\", len(train_0)/len(train)*100, \"%\")\n",
    "print(\"% de pessoas com rendimento = 1:\", len(train_1)/len(train)*100, \"%\")"
   ]
  },
  {
   "cell_type": "code",
   "execution_count": 5,
   "metadata": {},
   "outputs": [
    {
     "name": "stdout",
     "output_type": "stream",
     "text": [
      "% de pessoas com rendimento = 0 que receberam dinheiro: 4.160571127625958 %\n",
      "% de pessoas com rendimento = 1 que receberam dinheiro: 21.107136132555073 %\n",
      "% de pessoas com rendimento = 0 que pagaram bilhete: 3.025337936684417 %\n",
      "% de pessoas com rendimento = 1 que pagaram bilhete: 10.167576727546601 %\n"
     ]
    }
   ],
   "source": [
    "print(\"% de pessoas com rendimento = 0 que receberam dinheiro:\", len(train_0.loc[train_0['Money Received'] != 0])/len(train_0)*100, \"%\")\n",
    "print(\"% de pessoas com rendimento = 1 que receberam dinheiro:\", len(train_1.loc[train_1['Money Received'] != 0])/len(train_1)*100, \"%\")\n",
    "print(\"% de pessoas com rendimento = 0 que pagaram bilhete:\", len(train_0.loc[train_0['Ticket Price'] != 0])/len(train_0)*100, \"%\")\n",
    "print(\"% de pessoas com rendimento = 1 que pagaram bilhete:\", len(train_1.loc[train_1['Ticket Price'] != 0])/len(train_1)*100, \"%\")"
   ]
  },
  {
   "cell_type": "code",
   "execution_count": 6,
   "metadata": {},
   "outputs": [
    {
     "name": "stdout",
     "output_type": "stream",
     "text": [
      "% de pessoas que receberam dinheiro: 8.178571428571429 %\n"
     ]
    }
   ],
   "source": [
    "print(\"% de pessoas que receberam dinheiro:\", len(train.loc[train['Money Received'] != 0])/len(train)*100, \"%\")"
   ]
  },
  {
   "cell_type": "code",
   "execution_count": 7,
   "metadata": {},
   "outputs": [
    {
     "name": "stdout",
     "output_type": "stream",
     "text": [
      "% de pessoas que pagaram dinheiro: 4.71875 %\n"
     ]
    }
   ],
   "source": [
    "print(\"% de pessoas que pagaram dinheiro:\", len(train.loc[train['Ticket Price'] != 0])/len(train)*100, \"%\")"
   ]
  },
  {
   "cell_type": "code",
   "execution_count": 8,
   "metadata": {},
   "outputs": [
    {
     "data": {
      "text/html": [
       "<div>\n",
       "<style scoped>\n",
       "    .dataframe tbody tr th:only-of-type {\n",
       "        vertical-align: middle;\n",
       "    }\n",
       "\n",
       "    .dataframe tbody tr th {\n",
       "        vertical-align: top;\n",
       "    }\n",
       "\n",
       "    .dataframe thead th {\n",
       "        text-align: right;\n",
       "    }\n",
       "</style>\n",
       "<table border=\"1\" class=\"dataframe\">\n",
       "  <thead>\n",
       "    <tr style=\"text-align: right;\">\n",
       "      <th></th>\n",
       "      <th>Gender</th>\n",
       "      <th>Name</th>\n",
       "    </tr>\n",
       "  </thead>\n",
       "  <tbody>\n",
       "    <tr>\n",
       "      <th>0</th>\n",
       "      <td>Mr.</td>\n",
       "      <td>Adam Glover</td>\n",
       "    </tr>\n",
       "    <tr>\n",
       "      <th>8</th>\n",
       "      <td>Miss</td>\n",
       "      <td>Alexandra Tucker</td>\n",
       "    </tr>\n",
       "    <tr>\n",
       "      <th>19</th>\n",
       "      <td>Mrs.</td>\n",
       "      <td>Grace Russell</td>\n",
       "    </tr>\n",
       "  </tbody>\n",
       "</table>\n",
       "</div>"
      ],
      "text/plain": [
       "   Gender              Name\n",
       "0     Mr.       Adam Glover\n",
       "8    Miss  Alexandra Tucker\n",
       "19   Mrs.     Grace Russell"
      ]
     },
     "execution_count": 8,
     "metadata": {},
     "output_type": "execute_result"
    }
   ],
   "source": [
    "gender = train[\"Name\"].str.split(\" \", n=1, expand=True).rename(columns={0:\"Gender\", 1:\"Name\"}) #Split \n",
    "#da coluna \"Name\" pelo nome e pronome\n",
    "gender.drop_duplicates(\"Gender\") #Verificar os pronomes existentes (\"Mr.\", \"Mrs.\" e \"Miss\")"
   ]
  },
  {
   "cell_type": "code",
   "execution_count": 9,
   "metadata": {},
   "outputs": [],
   "source": [
    "gender['Gender'].replace('Miss','F',inplace=True)\n",
    "gender['Gender'].replace('Mrs.','F',inplace=True)\n",
    "gender['Gender'].replace('Mr.','M',inplace=True)\n",
    "train = train.drop(\"Name\", axis=1)\n",
    "train = pd.concat([gender, train], axis=1).set_index('CITIZEN_ID').reset_index()\n",
    "train.replace('?','NaN',inplace=True)"
   ]
  },
  {
   "cell_type": "code",
   "execution_count": 10,
   "metadata": {},
   "outputs": [],
   "source": [
    "birthday = train[\"Birthday\"].str.split(\",\", n=1, expand=True).rename(columns={0:\"Day and month\", 1:\"Year\"})\n",
    "train = train.assign(Birthday=birthday['Year'])"
   ]
  },
  {
   "cell_type": "code",
   "execution_count": 11,
   "metadata": {},
   "outputs": [],
   "source": [
    "train[\"Birthday\"] = train[\"Birthday\"].astype(str).astype(int)\n",
    "train[\"Birthday\"] = 2048 - train[\"Birthday\"]\n",
    "train.rename(columns={'Birthday':'Age'}, inplace=True)"
   ]
  },
  {
   "cell_type": "code",
   "execution_count": 12,
   "metadata": {},
   "outputs": [],
   "source": [
    "train[\"Money Received\"] = -1 * train[\"Money Received\"]\n",
    "train['Ticket Price']= train['Money Received']+ train['Ticket Price']\n",
    "del train['Money Received']"
   ]
  },
  {
   "cell_type": "code",
   "execution_count": 13,
   "metadata": {},
   "outputs": [
    {
     "data": {
      "text/plain": [
       "0       Private Sector - Services \n",
       "1           Public Sector - Others\n",
       "4       Self-Employed (Individual)\n",
       "8          Private Sector - Others\n",
       "22                             NaN\n",
       "29         Self-Employed (Company)\n",
       "48      Public Sector - Government\n",
       "81                      Unemployed\n",
       "1306                  Never Worked\n",
       "Name: Employment Sector, dtype: object"
      ]
     },
     "execution_count": 13,
     "metadata": {},
     "output_type": "execute_result"
    }
   ],
   "source": [
    "train[\"Employment Sector\"].drop_duplicates()"
   ]
  },
  {
   "cell_type": "code",
   "execution_count": 14,
   "metadata": {
    "scrolled": true
   },
   "outputs": [
    {
     "data": {
      "text/plain": [
       "0                Repair & constructions\n",
       "2                                 Sales\n",
       "3                              Security\n",
       "4                             Professor\n",
       "5                   Cleaners & Handlers\n",
       "7                        Other services\n",
       "8        Machine Operators & Inspectors\n",
       "10                           Management\n",
       "12                      Administratives\n",
       "18                           Transports\n",
       "22                                  NaN\n",
       "41              Agriculture and Fishing\n",
       "66                                   IT\n",
       "116                  Household Services\n",
       "10653                              Army\n",
       "Name: Role, dtype: object"
      ]
     },
     "execution_count": 14,
     "metadata": {},
     "output_type": "execute_result"
    }
   ],
   "source": [
    "train[\"Role\"].drop_duplicates()"
   ]
  },
  {
   "cell_type": "code",
   "execution_count": 15,
   "metadata": {},
   "outputs": [
    {
     "data": {
      "text/plain": [
       "0              High School + PostGraduation\n",
       "1                       Professional School\n",
       "3                   High School - 2nd Cycle\n",
       "4                                       PhD\n",
       "5                                 Bachelors\n",
       "9                Bachelors + PostGraduation\n",
       "10                                  Masters\n",
       "19                  High School - 1st Cycle\n",
       "26                     High School Complete\n",
       "29                 Masters + PostGraduation\n",
       "35     Professional School + PostGraduation\n",
       "36                Middle School - 2nd Cycle\n",
       "90                   Middle School Complete\n",
       "119               Middle School - 1st Cycle\n",
       "193                          Primary School\n",
       "522                               Preschool\n",
       "Name: Education Level, dtype: object"
      ]
     },
     "execution_count": 15,
     "metadata": {},
     "output_type": "execute_result"
    }
   ],
   "source": [
    "train[\"Education Level\"].drop_duplicates()"
   ]
  },
  {
   "cell_type": "code",
   "execution_count": 16,
   "metadata": {
    "scrolled": false
   },
   "outputs": [
    {
     "data": {
      "text/html": [
       "<div>\n",
       "<style scoped>\n",
       "    .dataframe tbody tr th:only-of-type {\n",
       "        vertical-align: middle;\n",
       "    }\n",
       "\n",
       "    .dataframe tbody tr th {\n",
       "        vertical-align: top;\n",
       "    }\n",
       "\n",
       "    .dataframe thead th {\n",
       "        text-align: right;\n",
       "    }\n",
       "</style>\n",
       "<table border=\"1\" class=\"dataframe\">\n",
       "  <thead>\n",
       "    <tr style=\"text-align: right;\">\n",
       "      <th></th>\n",
       "      <th>CITIZEN_ID</th>\n",
       "      <th>Gender</th>\n",
       "      <th>Name</th>\n",
       "      <th>Age</th>\n",
       "      <th>Native Continent</th>\n",
       "      <th>Marital Status</th>\n",
       "      <th>Lives with</th>\n",
       "      <th>Base Area</th>\n",
       "      <th>Education Level</th>\n",
       "      <th>Years of Education</th>\n",
       "      <th>Employment Sector</th>\n",
       "      <th>Role</th>\n",
       "      <th>Working Hours per week</th>\n",
       "      <th>Ticket Price</th>\n",
       "      <th>Income</th>\n",
       "    </tr>\n",
       "  </thead>\n",
       "  <tbody>\n",
       "    <tr>\n",
       "      <th>0</th>\n",
       "      <td>12486</td>\n",
       "      <td>M</td>\n",
       "      <td>Adam Glover</td>\n",
       "      <td>45</td>\n",
       "      <td>Europe</td>\n",
       "      <td>Married</td>\n",
       "      <td>Wife</td>\n",
       "      <td>Northbury</td>\n",
       "      <td>High School + PostGraduation</td>\n",
       "      <td>13</td>\n",
       "      <td>Private Sector - Services</td>\n",
       "      <td>Repair &amp; constructions</td>\n",
       "      <td>40</td>\n",
       "      <td>2273</td>\n",
       "      <td>1</td>\n",
       "    </tr>\n",
       "    <tr>\n",
       "      <th>1</th>\n",
       "      <td>12487</td>\n",
       "      <td>M</td>\n",
       "      <td>Cameron McDonald</td>\n",
       "      <td>42</td>\n",
       "      <td>Europe</td>\n",
       "      <td>Married</td>\n",
       "      <td>Wife</td>\n",
       "      <td>Northbury</td>\n",
       "      <td>Professional School</td>\n",
       "      <td>12</td>\n",
       "      <td>Public Sector - Others</td>\n",
       "      <td>Repair &amp; constructions</td>\n",
       "      <td>40</td>\n",
       "      <td>0</td>\n",
       "      <td>1</td>\n",
       "    </tr>\n",
       "    <tr>\n",
       "      <th>2</th>\n",
       "      <td>12488</td>\n",
       "      <td>M</td>\n",
       "      <td>Keith Davidson</td>\n",
       "      <td>39</td>\n",
       "      <td>Europe</td>\n",
       "      <td>Married</td>\n",
       "      <td>Wife</td>\n",
       "      <td>Northbury</td>\n",
       "      <td>Professional School</td>\n",
       "      <td>12</td>\n",
       "      <td>Private Sector - Services</td>\n",
       "      <td>Sales</td>\n",
       "      <td>46</td>\n",
       "      <td>2321</td>\n",
       "      <td>1</td>\n",
       "    </tr>\n",
       "    <tr>\n",
       "      <th>3</th>\n",
       "      <td>12489</td>\n",
       "      <td>M</td>\n",
       "      <td>Alexander Gill</td>\n",
       "      <td>63</td>\n",
       "      <td>Europe</td>\n",
       "      <td>Married</td>\n",
       "      <td>Wife</td>\n",
       "      <td>Northbury</td>\n",
       "      <td>High School - 2nd Cycle</td>\n",
       "      <td>11</td>\n",
       "      <td>Private Sector - Services</td>\n",
       "      <td>Security</td>\n",
       "      <td>37</td>\n",
       "      <td>-5395</td>\n",
       "      <td>1</td>\n",
       "    </tr>\n",
       "    <tr>\n",
       "      <th>4</th>\n",
       "      <td>12490</td>\n",
       "      <td>M</td>\n",
       "      <td>Neil Piper</td>\n",
       "      <td>33</td>\n",
       "      <td>Europe</td>\n",
       "      <td>Single</td>\n",
       "      <td>Other Family</td>\n",
       "      <td>Northbury</td>\n",
       "      <td>PhD</td>\n",
       "      <td>21</td>\n",
       "      <td>Self-Employed (Individual)</td>\n",
       "      <td>Professor</td>\n",
       "      <td>45</td>\n",
       "      <td>0</td>\n",
       "      <td>1</td>\n",
       "    </tr>\n",
       "    <tr>\n",
       "      <th>...</th>\n",
       "      <td>...</td>\n",
       "      <td>...</td>\n",
       "      <td>...</td>\n",
       "      <td>...</td>\n",
       "      <td>...</td>\n",
       "      <td>...</td>\n",
       "      <td>...</td>\n",
       "      <td>...</td>\n",
       "      <td>...</td>\n",
       "      <td>...</td>\n",
       "      <td>...</td>\n",
       "      <td>...</td>\n",
       "      <td>...</td>\n",
       "      <td>...</td>\n",
       "      <td>...</td>\n",
       "    </tr>\n",
       "    <tr>\n",
       "      <th>22395</th>\n",
       "      <td>34881</td>\n",
       "      <td>F</td>\n",
       "      <td>Lisa Alsop</td>\n",
       "      <td>25</td>\n",
       "      <td>Europe</td>\n",
       "      <td>Divorced</td>\n",
       "      <td>Children</td>\n",
       "      <td>Northbury</td>\n",
       "      <td>Professional School</td>\n",
       "      <td>12</td>\n",
       "      <td>Private Sector - Services</td>\n",
       "      <td>Cleaners &amp; Handlers</td>\n",
       "      <td>40</td>\n",
       "      <td>0</td>\n",
       "      <td>0</td>\n",
       "    </tr>\n",
       "    <tr>\n",
       "      <th>22396</th>\n",
       "      <td>34882</td>\n",
       "      <td>M</td>\n",
       "      <td>Julian Coleman</td>\n",
       "      <td>23</td>\n",
       "      <td>Europe</td>\n",
       "      <td>Single</td>\n",
       "      <td>Children</td>\n",
       "      <td>Northbury</td>\n",
       "      <td>Professional School</td>\n",
       "      <td>12</td>\n",
       "      <td>Private Sector - Services</td>\n",
       "      <td>Other services</td>\n",
       "      <td>35</td>\n",
       "      <td>0</td>\n",
       "      <td>0</td>\n",
       "    </tr>\n",
       "    <tr>\n",
       "      <th>22397</th>\n",
       "      <td>34883</td>\n",
       "      <td>F</td>\n",
       "      <td>Amelia Walker</td>\n",
       "      <td>26</td>\n",
       "      <td>Europe</td>\n",
       "      <td>Single</td>\n",
       "      <td>Other Family</td>\n",
       "      <td>Northbury</td>\n",
       "      <td>Masters</td>\n",
       "      <td>17</td>\n",
       "      <td>Public Sector - Others</td>\n",
       "      <td>Professor</td>\n",
       "      <td>40</td>\n",
       "      <td>-2674</td>\n",
       "      <td>0</td>\n",
       "    </tr>\n",
       "    <tr>\n",
       "      <th>22398</th>\n",
       "      <td>34884</td>\n",
       "      <td>M</td>\n",
       "      <td>Justin Sutherland</td>\n",
       "      <td>37</td>\n",
       "      <td>Europe</td>\n",
       "      <td>Single</td>\n",
       "      <td>Other Family</td>\n",
       "      <td>Northbury</td>\n",
       "      <td>Bachelors + PostGraduation</td>\n",
       "      <td>16</td>\n",
       "      <td>Private Sector - Services</td>\n",
       "      <td>Repair &amp; constructions</td>\n",
       "      <td>90</td>\n",
       "      <td>0</td>\n",
       "      <td>1</td>\n",
       "    </tr>\n",
       "    <tr>\n",
       "      <th>22399</th>\n",
       "      <td>34885</td>\n",
       "      <td>M</td>\n",
       "      <td>Joseph Murray</td>\n",
       "      <td>22</td>\n",
       "      <td>Asia</td>\n",
       "      <td>Single</td>\n",
       "      <td>Children</td>\n",
       "      <td>Northbury</td>\n",
       "      <td>High School + PostGraduation</td>\n",
       "      <td>13</td>\n",
       "      <td>Private Sector - Services</td>\n",
       "      <td>Transports</td>\n",
       "      <td>40</td>\n",
       "      <td>0</td>\n",
       "      <td>0</td>\n",
       "    </tr>\n",
       "  </tbody>\n",
       "</table>\n",
       "<p>22400 rows × 15 columns</p>\n",
       "</div>"
      ],
      "text/plain": [
       "       CITIZEN_ID Gender               Name  Age Native Continent  \\\n",
       "0           12486      M        Adam Glover   45           Europe   \n",
       "1           12487      M   Cameron McDonald   42           Europe   \n",
       "2           12488      M     Keith Davidson   39           Europe   \n",
       "3           12489      M     Alexander Gill   63           Europe   \n",
       "4           12490      M         Neil Piper   33           Europe   \n",
       "...           ...    ...                ...  ...              ...   \n",
       "22395       34881      F         Lisa Alsop   25           Europe   \n",
       "22396       34882      M     Julian Coleman   23           Europe   \n",
       "22397       34883      F      Amelia Walker   26           Europe   \n",
       "22398       34884      M  Justin Sutherland   37           Europe   \n",
       "22399       34885      M      Joseph Murray   22             Asia   \n",
       "\n",
       "      Marital Status    Lives with  Base Area               Education Level  \\\n",
       "0            Married          Wife  Northbury  High School + PostGraduation   \n",
       "1            Married          Wife  Northbury           Professional School   \n",
       "2            Married          Wife  Northbury           Professional School   \n",
       "3            Married          Wife  Northbury       High School - 2nd Cycle   \n",
       "4             Single  Other Family  Northbury                           PhD   \n",
       "...              ...           ...        ...                           ...   \n",
       "22395       Divorced      Children  Northbury           Professional School   \n",
       "22396         Single      Children  Northbury           Professional School   \n",
       "22397         Single  Other Family  Northbury                       Masters   \n",
       "22398         Single  Other Family  Northbury    Bachelors + PostGraduation   \n",
       "22399         Single      Children  Northbury  High School + PostGraduation   \n",
       "\n",
       "       Years of Education           Employment Sector                    Role  \\\n",
       "0                      13  Private Sector - Services   Repair & constructions   \n",
       "1                      12      Public Sector - Others  Repair & constructions   \n",
       "2                      12  Private Sector - Services                    Sales   \n",
       "3                      11  Private Sector - Services                 Security   \n",
       "4                      21  Self-Employed (Individual)               Professor   \n",
       "...                   ...                         ...                     ...   \n",
       "22395                  12  Private Sector - Services      Cleaners & Handlers   \n",
       "22396                  12  Private Sector - Services           Other services   \n",
       "22397                  17      Public Sector - Others               Professor   \n",
       "22398                  16  Private Sector - Services   Repair & constructions   \n",
       "22399                  13  Private Sector - Services               Transports   \n",
       "\n",
       "       Working Hours per week  Ticket Price  Income  \n",
       "0                          40          2273       1  \n",
       "1                          40             0       1  \n",
       "2                          46          2321       1  \n",
       "3                          37         -5395       1  \n",
       "4                          45             0       1  \n",
       "...                       ...           ...     ...  \n",
       "22395                      40             0       0  \n",
       "22396                      35             0       0  \n",
       "22397                      40         -2674       0  \n",
       "22398                      90             0       1  \n",
       "22399                      40             0       0  \n",
       "\n",
       "[22400 rows x 15 columns]"
      ]
     },
     "execution_count": 16,
     "metadata": {},
     "output_type": "execute_result"
    }
   ],
   "source": [
    "train"
   ]
  }
 ],
 "metadata": {
  "kernelspec": {
   "display_name": "Python 3",
   "language": "python",
   "name": "python3"
  },
  "language_info": {
   "codemirror_mode": {
    "name": "ipython",
    "version": 3
   },
   "file_extension": ".py",
   "mimetype": "text/x-python",
   "name": "python",
   "nbconvert_exporter": "python",
   "pygments_lexer": "ipython3",
   "version": "3.8.5"
  }
 },
 "nbformat": 4,
 "nbformat_minor": 4
}

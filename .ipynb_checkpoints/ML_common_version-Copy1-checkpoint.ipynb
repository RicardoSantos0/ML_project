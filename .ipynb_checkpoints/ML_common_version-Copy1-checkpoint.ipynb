{
 "cells": [
  {
   "cell_type": "code",
   "execution_count": 1,
   "metadata": {},
   "outputs": [],
   "source": [
    "import numpy as np\n",
    "import scipy\n",
    "import pandas as pd\n",
    "import datetime as dt\n",
    "import warnings\n",
    "warnings.filterwarnings('ignore')\n",
    "from sklearn.preprocessing import OneHotEncoder\n",
    "import matplotlib.pyplot as plt\n",
    "import seaborn as sns\n",
    "from math import ceil"
   ]
  },
  {
   "cell_type": "code",
   "execution_count": 2,
   "metadata": {},
   "outputs": [],
   "source": [
    "#creates dataframes train and test\n",
    "df_train = pd.read_excel(\"Train.xlsx\")\n",
    "df_test = pd.read_excel(\"Test.xlsx\")"
   ]
  },
  {
   "cell_type": "markdown",
   "metadata": {},
   "source": [
    "# SOME DATA EXPLORATION"
   ]
  },
  {
   "cell_type": "code",
   "execution_count": 3,
   "metadata": {},
   "outputs": [],
   "source": [
    "train_0 = df_train.loc[df_train['Income'] == 0] # Income = 0 - Rendimento =< da média\n",
    "train_1 = df_train.loc[df_train['Income'] == 1] # Income = 1 - Rendimento > da média"
   ]
  },
  {
   "cell_type": "code",
   "execution_count": 4,
   "metadata": {},
   "outputs": [
    {
     "name": "stdout",
     "output_type": "stream",
     "text": [
      "Nº de pessoas com rendimento = 0: 17089\n",
      "Nº de pessoas com rendimento = 1: 5311\n",
      "% de pessoas com rendimento = 0: 76.29017857142857 %\n",
      "% de pessoas com rendimento = 1: 23.709821428571427 %\n"
     ]
    }
   ],
   "source": [
    "print(\"Nº de pessoas com rendimento = 0:\", len(train_0))\n",
    "print(\"Nº de pessoas com rendimento = 1:\", len(train_1))\n",
    "print(\"% de pessoas com rendimento = 0:\", len(train_0)/len(df_train)*100, \"%\")\n",
    "print(\"% de pessoas com rendimento = 1:\", len(train_1)/len(df_train)*100, \"%\")"
   ]
  },
  {
   "cell_type": "code",
   "execution_count": 5,
   "metadata": {},
   "outputs": [
    {
     "name": "stdout",
     "output_type": "stream",
     "text": [
      "% de pessoas com rendimento = 0 que receberam dinheiro: 4.160571127625958 %\n",
      "% de pessoas com rendimento = 1 que receberam dinheiro: 21.107136132555073 %\n",
      "% de pessoas com rendimento = 0 que pagaram bilhete: 3.025337936684417 %\n",
      "% de pessoas com rendimento = 1 que pagaram bilhete: 10.167576727546601 %\n"
     ]
    }
   ],
   "source": [
    "print(\"% de pessoas com rendimento = 0 que receberam dinheiro:\", len(train_0.loc[train_0['Money Received'] != 0])/len(train_0)*100, \"%\")\n",
    "print(\"% de pessoas com rendimento = 1 que receberam dinheiro:\", len(train_1.loc[train_1['Money Received'] != 0])/len(train_1)*100, \"%\")\n",
    "print(\"% de pessoas com rendimento = 0 que pagaram bilhete:\", len(train_0.loc[train_0['Ticket Price'] != 0])/len(train_0)*100, \"%\")\n",
    "print(\"% de pessoas com rendimento = 1 que pagaram bilhete:\", len(train_1.loc[train_1['Ticket Price'] != 0])/len(train_1)*100, \"%\")"
   ]
  },
  {
   "cell_type": "code",
   "execution_count": 6,
   "metadata": {},
   "outputs": [
    {
     "name": "stdout",
     "output_type": "stream",
     "text": [
      "% de pessoas que receberam dinheiro: 8.178571428571429 %\n"
     ]
    }
   ],
   "source": [
    "print(\"% de pessoas que receberam dinheiro:\", len(df_train.loc[df_train['Money Received'] != 0])/len(df_train)*100, \"%\")"
   ]
  },
  {
   "cell_type": "code",
   "execution_count": 7,
   "metadata": {},
   "outputs": [
    {
     "name": "stdout",
     "output_type": "stream",
     "text": [
      "% de pessoas que pagaram dinheiro: 4.71875 %\n"
     ]
    }
   ],
   "source": [
    "print(\"% de pessoas que pagaram dinheiro:\", len(df_train.loc[df_train['Ticket Price'] != 0])/len(df_train)*100, \"%\")"
   ]
  },
  {
   "cell_type": "markdown",
   "metadata": {},
   "source": [
    "# DATA CLEANING"
   ]
  },
  {
   "cell_type": "code",
   "execution_count": 8,
   "metadata": {},
   "outputs": [],
   "source": [
    "df_train[['Gender','Name']] = df_train.Name.str.split(\" \", n=1, expand=True)\n",
    "\n",
    "df_test[['Gender','Name']] = df_test.Name.str.split(\" \", n=1, expand=True)"
   ]
  },
  {
   "cell_type": "code",
   "execution_count": 9,
   "metadata": {},
   "outputs": [
    {
     "data": {
      "text/plain": [
       "array(['Mr.', 'Miss', 'Mrs.'], dtype=object)"
      ]
     },
     "execution_count": 9,
     "metadata": {},
     "output_type": "execute_result"
    }
   ],
   "source": [
    "df_train[\"Gender\"].unique() #Verificar os pronomes existentes (\"Mr.\", \"Mrs.\" e \"Miss\")"
   ]
  },
  {
   "cell_type": "code",
   "execution_count": 10,
   "metadata": {},
   "outputs": [],
   "source": [
    "df_train['Gender'].replace(['Miss', 'Mrs.', 'Mr.'], [0,0,1],inplace=True)\n",
    "df_train = df_train.drop(\"Name\", axis=1)\n",
    "\n",
    "df_test['Gender'].replace(['Miss', 'Mrs.', 'Mr.'], [0,0,1],inplace=True)\n",
    "df_test = df_test.drop(\"Name\", axis=1)"
   ]
  },
  {
   "cell_type": "code",
   "execution_count": 11,
   "metadata": {},
   "outputs": [],
   "source": [
    "#replaces index by ID of citizens; drops previous\n",
    "df_train = df_train.set_index('CITIZEN_ID', drop=True)\n",
    "\n",
    "df_test = df_test.set_index('CITIZEN_ID', drop=True)"
   ]
  },
  {
   "cell_type": "code",
   "execution_count": 12,
   "metadata": {},
   "outputs": [],
   "source": [
    "#replaces ? with np.nan\n",
    "df_train.replace('?', np.nan, inplace=True)\n",
    "\n",
    "df_test.replace('?', np.nan, inplace=True)"
   ]
  },
  {
   "cell_type": "code",
   "execution_count": 13,
   "metadata": {},
   "outputs": [],
   "source": [
    "#calculates age and drops birthay column\n",
    "birthday = df_train[\"Birthday\"].str.split(\",\", n=1, expand=True).rename(columns={0:\"Day and month\", 1:\"Year\"})\n",
    "df_train = df_train.assign(Birthday=birthday['Year'])\n",
    "df_train[\"Birthday\"] = df_train[\"Birthday\"].astype(int)\n",
    "df_train[\"Birthday\"] = 2048 - df_train[\"Birthday\"]\n",
    "df_train.rename(columns={'Birthday':'Age'}, inplace=True)\n",
    "\n",
    "birthday = df_test[\"Birthday\"].str.split(\",\", n=1, expand=True).rename(columns={0:\"Day and month\", 1:\"Year\"})\n",
    "df_test = df_test.assign(Birthday=birthday['Year'])\n",
    "df_test[\"Birthday\"] = df_test[\"Birthday\"].astype(int)\n",
    "df_test[\"Birthday\"] = 2048 - df_test[\"Birthday\"]\n",
    "df_test.rename(columns={'Birthday':'Age'}, inplace=True)"
   ]
  },
  {
   "cell_type": "code",
   "execution_count": 14,
   "metadata": {},
   "outputs": [],
   "source": [
    "#merges money received and ticket price columns; people who payed have now a negative value in column \"Money Received\"\n",
    "df_train[\"Money Received\"] = -1 * df_train[\"Money Received\"]\n",
    "df_train['Ticket Price']= df_train['Money Received'] + df_train['Ticket Price']\n",
    "del df_train['Money Received']\n",
    "\n",
    "df_test[\"Money Received\"] = -1 * df_test[\"Money Received\"]\n",
    "df_test['Ticket Price'] = df_test['Money Received'] + df_test['Ticket Price']\n",
    "del df_test['Money Received']"
   ]
  },
  {
   "cell_type": "code",
   "execution_count": 15,
   "metadata": {},
   "outputs": [
    {
     "name": "stdout",
     "output_type": "stream",
     "text": [
      "<class 'pandas.core.frame.DataFrame'>\n",
      "Int64Index: 22400 entries, 12486 to 34885\n",
      "Data columns (total 13 columns):\n",
      " #   Column                  Non-Null Count  Dtype \n",
      "---  ------                  --------------  ----- \n",
      " 0   Age                     22400 non-null  int64 \n",
      " 1   Native Continent        22400 non-null  object\n",
      " 2   Marital Status          22400 non-null  object\n",
      " 3   Lives with              22400 non-null  object\n",
      " 4   Base Area               22005 non-null  object\n",
      " 5   Education Level         22400 non-null  object\n",
      " 6   Years of Education      22400 non-null  int64 \n",
      " 7   Employment Sector       21136 non-null  object\n",
      " 8   Role                    21129 non-null  object\n",
      " 9   Working Hours per week  22400 non-null  int64 \n",
      " 10  Ticket Price            22400 non-null  int64 \n",
      " 11  Income                  22400 non-null  int64 \n",
      " 12  Gender                  22400 non-null  int64 \n",
      "dtypes: int64(6), object(7)\n",
      "memory usage: 2.4+ MB\n"
     ]
    }
   ],
   "source": [
    "df_train.info()"
   ]
  },
  {
   "cell_type": "code",
   "execution_count": 16,
   "metadata": {},
   "outputs": [
    {
     "name": "stdout",
     "output_type": "stream",
     "text": [
      "<class 'pandas.core.frame.DataFrame'>\n",
      "Int64Index: 10100 entries, 34886 to 44985\n",
      "Data columns (total 12 columns):\n",
      " #   Column                  Non-Null Count  Dtype \n",
      "---  ------                  --------------  ----- \n",
      " 0   Age                     10100 non-null  int64 \n",
      " 1   Native Continent        10100 non-null  object\n",
      " 2   Marital Status          10100 non-null  object\n",
      " 3   Lives with              10100 non-null  object\n",
      " 4   Base Area               9913 non-null   object\n",
      " 5   Education Level         10100 non-null  object\n",
      " 6   Years of Education      10100 non-null  int64 \n",
      " 7   Employment Sector       9530 non-null   object\n",
      " 8   Role                    9530 non-null   object\n",
      " 9   Working Hours per week  10100 non-null  int64 \n",
      " 10  Ticket Price            10100 non-null  int64 \n",
      " 11  Gender                  10100 non-null  int64 \n",
      "dtypes: int64(5), object(7)\n",
      "memory usage: 1.0+ MB\n"
     ]
    }
   ],
   "source": [
    "df_test.info()"
   ]
  },
  {
   "cell_type": "code",
   "execution_count": 17,
   "metadata": {},
   "outputs": [],
   "source": [
    "#checking unique values of categorical variables"
   ]
  },
  {
   "cell_type": "code",
   "execution_count": 18,
   "metadata": {},
   "outputs": [
    {
     "data": {
      "text/plain": [
       "array(['Europe', 'Africa', 'Asia', 'America', 'Oceania'], dtype=object)"
      ]
     },
     "execution_count": 18,
     "metadata": {},
     "output_type": "execute_result"
    }
   ],
   "source": [
    "df_train[\"Native Continent\"].unique()"
   ]
  },
  {
   "cell_type": "code",
   "execution_count": 19,
   "metadata": {},
   "outputs": [
    {
     "data": {
      "text/plain": [
       "Europe     19111\n",
       "Africa      2187\n",
       "Asia         699\n",
       "America      219\n",
       "Oceania      184\n",
       "Name: Native Continent, dtype: int64"
      ]
     },
     "execution_count": 19,
     "metadata": {},
     "output_type": "execute_result"
    }
   ],
   "source": [
    "df_train[\"Native Continent\"].value_counts()"
   ]
  },
  {
   "cell_type": "code",
   "execution_count": 20,
   "metadata": {},
   "outputs": [
    {
     "data": {
      "text/plain": [
       "array(['Married', 'Single', 'Married - Spouse Missing', 'Divorced',\n",
       "       'Separated', 'Widow', 'Married - Spouse in the Army'], dtype=object)"
      ]
     },
     "execution_count": 20,
     "metadata": {},
     "output_type": "execute_result"
    }
   ],
   "source": [
    "df_train[\"Marital Status\"].unique()"
   ]
  },
  {
   "cell_type": "code",
   "execution_count": 21,
   "metadata": {},
   "outputs": [
    {
     "data": {
      "text/plain": [
       "array(['Married', 'Single', 'Divorced', 'Separated', 'Widow'],\n",
       "      dtype=object)"
      ]
     },
     "execution_count": 21,
     "metadata": {},
     "output_type": "execute_result"
    }
   ],
   "source": [
    "#it's irrelevant to know if spouse is missing or in the army; even if it's relevant, this is such a small subset (284 and 14, respectively) that this has no power; thus, these values will be considered as just Married, and will thus be changed next:\n",
    "df_train.loc[df_train[\"Marital Status\"] == 'Married - Spouse Missing', \"Marital Status\"] = 'Married'\n",
    "df_train.loc[df_train[\"Marital Status\"] == 'Married - Spouse in the Army', \"Marital Status\"] = 'Married'\n",
    "\n",
    "df_test.loc[df_test[\"Marital Status\"] == 'Married - Spouse Missing', \"Marital Status\"] = 'Married'\n",
    "df_test.loc[df_test[\"Marital Status\"] == 'Married - Spouse in the Army', \"Marital Status\"] = 'Married'\n",
    "\n",
    "df_train[\"Marital Status\"].unique() #checks if sucessful"
   ]
  },
  {
   "cell_type": "code",
   "execution_count": 22,
   "metadata": {},
   "outputs": [
    {
     "data": {
      "text/plain": [
       "array(['Wife', 'Other Family', 'Children', 'Other relatives', 'Alone',\n",
       "       'Husband'], dtype=object)"
      ]
     },
     "execution_count": 22,
     "metadata": {},
     "output_type": "execute_result"
    }
   ],
   "source": [
    "df_train[\"Lives with\"].unique()"
   ]
  },
  {
   "cell_type": "code",
   "execution_count": 23,
   "metadata": {},
   "outputs": [
    {
     "data": {
      "text/plain": [
       "array(['Spouse', 'Other Family', 'Children', 'Other relatives', 'Alone'],\n",
       "      dtype=object)"
      ]
     },
     "execution_count": 23,
     "metadata": {},
     "output_type": "execute_result"
    }
   ],
   "source": [
    "#it's irrelevant to know if it's \"Wife\" or \"Husband\", they're both \"spouse\", which will yield more statistical power to the instance, if relevant, and it's one less instance for One hot enconding, wich is good\n",
    "df_train.loc[df_train[\"Lives with\"] == 'Wife', \"Lives with\"] = 'Spouse'\n",
    "df_train.loc[df_train[\"Lives with\"] == 'Husband', \"Lives with\"] = 'Spouse'\n",
    "\n",
    "df_test.loc[df_test[\"Lives with\"] == 'Wife', \"Lives with\"] = 'Spouse'\n",
    "df_test.loc[df_test[\"Lives with\"] == 'Husband', \"Lives with\"] = 'Spouse'\n",
    "\n",
    "df_train[\"Lives with\"].unique() #checks if sucessful\n"
   ]
  },
  {
   "cell_type": "code",
   "execution_count": 24,
   "metadata": {},
   "outputs": [
    {
     "data": {
      "text/plain": [
       "array(['Northbury', 'Auchenshuggle', 'Sharnwick', 'Laewaes',\n",
       "       'MillerVille', nan, 'Fanfoss', 'Wigston', \"Knife's Edge\",\n",
       "       'Aerilon', 'Watford', 'Lanercost', 'Bellmoral', 'Marnmouth',\n",
       "       'Bellenau', 'Butterpond', 'Laenteglos', 'Tranmere', 'Eelry',\n",
       "       'Alverton', 'Pran', 'Willesden', \"King's Watch\", 'Kald',\n",
       "       'Kirkwall', \"Fool's March\", 'Middlesbrough', 'Orilon',\n",
       "       'Aroonshire', 'Aberuthven', 'Sharpton', 'Lewes', 'Mensfield',\n",
       "       'Cherrytown', 'Redwick Bush', 'Drumchapel', 'Carlisle',\n",
       "       'Conriston', 'Woodpine', 'Ironforge'], dtype=object)"
      ]
     },
     "execution_count": 24,
     "metadata": {},
     "output_type": "execute_result"
    }
   ],
   "source": [
    "df_train[\"Base Area\"].unique() #irrelevant, especially coz they're from different continents, and we already have that info; I'd just drop it"
   ]
  },
  {
   "cell_type": "code",
   "execution_count": 25,
   "metadata": {},
   "outputs": [
    {
     "data": {
      "text/plain": [
       "array(['High School + PostGraduation', 'Professional School',\n",
       "       'High School - 2nd Cycle', 'PhD', 'Bachelors',\n",
       "       'Bachelors + PostGraduation', 'Masters', 'High School - 1st Cycle',\n",
       "       'High School Complete', 'Masters + PostGraduation',\n",
       "       'Professional School + PostGraduation',\n",
       "       'Middle School - 2nd Cycle', 'Middle School Complete',\n",
       "       'Middle School - 1st Cycle', 'Primary School', 'Preschool'],\n",
       "      dtype=object)"
      ]
     },
     "execution_count": 25,
     "metadata": {},
     "output_type": "execute_result"
    }
   ],
   "source": [
    "df_train[\"Education Level\"].unique() #will be dropped coz years of experience are more relevant; find way of showing that and then drop it"
   ]
  },
  {
   "cell_type": "code",
   "execution_count": 26,
   "metadata": {},
   "outputs": [
    {
     "data": {
      "text/plain": [
       "Professional School                     7232\n",
       "High School + PostGraduation            4994\n",
       "Bachelors + PostGraduation              3696\n",
       "Masters                                 1193\n",
       "Professional School + PostGraduation     953\n",
       "High School - 2nd Cycle                  809\n",
       "Bachelors                                735\n",
       "High School - 1st Cycle                  649\n",
       "Middle School - 2nd Cycle                432\n",
       "Masters + PostGraduation                 397\n",
       "Middle School Complete                   342\n",
       "PhD                                      289\n",
       "High School Complete                     287\n",
       "Middle School - 1st Cycle                237\n",
       "Primary School                           122\n",
       "Preschool                                 33\n",
       "Name: Education Level, dtype: int64"
      ]
     },
     "execution_count": 26,
     "metadata": {},
     "output_type": "execute_result"
    }
   ],
   "source": [
    "df_train[\"Education Level\"].value_counts()"
   ]
  },
  {
   "cell_type": "code",
   "execution_count": 27,
   "metadata": {},
   "outputs": [],
   "source": [
    "#will drop both FOR NOW just for the sake of having a working dataset ASAP; later will provide justification for this\n",
    "df_train = df_train.drop(\"Base Area\", axis=1)\n",
    "df_train = df_train.drop(\"Education Level\", axis=1)\n",
    "\n",
    "df_test = df_test.drop(\"Base Area\", axis=1)\n",
    "df_test = df_test.drop(\"Education Level\", axis=1)"
   ]
  },
  {
   "cell_type": "code",
   "execution_count": 28,
   "metadata": {},
   "outputs": [],
   "source": [
    "#replaces nan with np.nan\n",
    "df_train.replace('nan', np.nan, inplace=True)\n",
    "\n",
    "df_test.replace('nan', np.nan, inplace=True)"
   ]
  },
  {
   "cell_type": "code",
   "execution_count": 29,
   "metadata": {},
   "outputs": [
    {
     "data": {
      "text/html": [
       "<div>\n",
       "<style scoped>\n",
       "    .dataframe tbody tr th:only-of-type {\n",
       "        vertical-align: middle;\n",
       "    }\n",
       "\n",
       "    .dataframe tbody tr th {\n",
       "        vertical-align: top;\n",
       "    }\n",
       "\n",
       "    .dataframe thead th {\n",
       "        text-align: right;\n",
       "    }\n",
       "</style>\n",
       "<table border=\"1\" class=\"dataframe\">\n",
       "  <thead>\n",
       "    <tr style=\"text-align: right;\">\n",
       "      <th></th>\n",
       "      <th>Age</th>\n",
       "      <th>Years of Education</th>\n",
       "      <th>Working Hours per week</th>\n",
       "      <th>Ticket Price</th>\n",
       "      <th>Income</th>\n",
       "      <th>Gender</th>\n",
       "    </tr>\n",
       "  </thead>\n",
       "  <tbody>\n",
       "    <tr>\n",
       "      <th>count</th>\n",
       "      <td>22400.000000</td>\n",
       "      <td>22400.000000</td>\n",
       "      <td>22400.000000</td>\n",
       "      <td>22400.000000</td>\n",
       "      <td>22400.000000</td>\n",
       "      <td>22400.000000</td>\n",
       "    </tr>\n",
       "    <tr>\n",
       "      <th>mean</th>\n",
       "      <td>38.584866</td>\n",
       "      <td>13.173884</td>\n",
       "      <td>40.483795</td>\n",
       "      <td>-1215.770045</td>\n",
       "      <td>0.237098</td>\n",
       "      <td>0.668348</td>\n",
       "    </tr>\n",
       "    <tr>\n",
       "      <th>std</th>\n",
       "      <td>13.651578</td>\n",
       "      <td>2.512451</td>\n",
       "      <td>12.370921</td>\n",
       "      <td>9256.954742</td>\n",
       "      <td>0.425313</td>\n",
       "      <td>0.470817</td>\n",
       "    </tr>\n",
       "    <tr>\n",
       "      <th>min</th>\n",
       "      <td>17.000000</td>\n",
       "      <td>2.000000</td>\n",
       "      <td>1.000000</td>\n",
       "      <td>-122999.000000</td>\n",
       "      <td>0.000000</td>\n",
       "      <td>0.000000</td>\n",
       "    </tr>\n",
       "    <tr>\n",
       "      <th>25%</th>\n",
       "      <td>28.000000</td>\n",
       "      <td>12.000000</td>\n",
       "      <td>40.000000</td>\n",
       "      <td>0.000000</td>\n",
       "      <td>0.000000</td>\n",
       "      <td>0.000000</td>\n",
       "    </tr>\n",
       "    <tr>\n",
       "      <th>50%</th>\n",
       "      <td>37.000000</td>\n",
       "      <td>13.000000</td>\n",
       "      <td>40.000000</td>\n",
       "      <td>0.000000</td>\n",
       "      <td>0.000000</td>\n",
       "      <td>1.000000</td>\n",
       "    </tr>\n",
       "    <tr>\n",
       "      <th>75%</th>\n",
       "      <td>48.000000</td>\n",
       "      <td>15.000000</td>\n",
       "      <td>45.000000</td>\n",
       "      <td>0.000000</td>\n",
       "      <td>0.000000</td>\n",
       "      <td>1.000000</td>\n",
       "    </tr>\n",
       "    <tr>\n",
       "      <th>max</th>\n",
       "      <td>90.000000</td>\n",
       "      <td>21.000000</td>\n",
       "      <td>99.000000</td>\n",
       "      <td>5358.000000</td>\n",
       "      <td>1.000000</td>\n",
       "      <td>1.000000</td>\n",
       "    </tr>\n",
       "  </tbody>\n",
       "</table>\n",
       "</div>"
      ],
      "text/plain": [
       "                Age  Years of Education  Working Hours per week  \\\n",
       "count  22400.000000        22400.000000            22400.000000   \n",
       "mean      38.584866           13.173884               40.483795   \n",
       "std       13.651578            2.512451               12.370921   \n",
       "min       17.000000            2.000000                1.000000   \n",
       "25%       28.000000           12.000000               40.000000   \n",
       "50%       37.000000           13.000000               40.000000   \n",
       "75%       48.000000           15.000000               45.000000   \n",
       "max       90.000000           21.000000               99.000000   \n",
       "\n",
       "        Ticket Price        Income        Gender  \n",
       "count   22400.000000  22400.000000  22400.000000  \n",
       "mean    -1215.770045      0.237098      0.668348  \n",
       "std      9256.954742      0.425313      0.470817  \n",
       "min   -122999.000000      0.000000      0.000000  \n",
       "25%         0.000000      0.000000      0.000000  \n",
       "50%         0.000000      0.000000      1.000000  \n",
       "75%         0.000000      0.000000      1.000000  \n",
       "max      5358.000000      1.000000      1.000000  "
      ]
     },
     "execution_count": 29,
     "metadata": {},
     "output_type": "execute_result"
    }
   ],
   "source": [
    "df_train.describe()"
   ]
  },
  {
   "cell_type": "code",
   "execution_count": 30,
   "metadata": {},
   "outputs": [
    {
     "data": {
      "text/plain": [
       "Role\n",
       "Household Services                0.000000\n",
       "Other services                    0.038916\n",
       "Cleaners & Handlers               0.062907\n",
       "Agriculture and Fishing           0.112536\n",
       "Machine Operators & Inspectors    0.117775\n",
       "Administratives                   0.138804\n",
       "Transports                        0.196078\n",
       "Army                              0.200000\n",
       "Repair & constructions            0.221109\n",
       "Sales                             0.261952\n",
       "Security                          0.297778\n",
       "IT                                0.298722\n",
       "Professor                         0.444015\n",
       "Management                        0.481230\n",
       "Name: Income, dtype: float64"
      ]
     },
     "execution_count": 30,
     "metadata": {},
     "output_type": "execute_result"
    }
   ],
   "source": [
    "(df_train.groupby(\"Role\")[\"Income\"].sum() / df_train.groupby(\"Role\")[\"Income\"].count()).sort_values()"
   ]
  },
  {
   "cell_type": "code",
   "execution_count": 31,
   "metadata": {},
   "outputs": [
    {
     "data": {
      "text/plain": [
       "Private Sector - Services     7052\n",
       "Self-Employed (Individual)     772\n",
       "Public Sector - Others         672\n",
       "Private Sector - Others        417\n",
       "Self-Employed (Company)        349\n",
       "Public Sector - Government     266\n",
       "Unemployed                       2\n",
       "Name: Employment Sector, dtype: int64"
      ]
     },
     "execution_count": 31,
     "metadata": {},
     "output_type": "execute_result"
    }
   ],
   "source": [
    "df_test[\"Employment Sector\"].value_counts()"
   ]
  },
  {
   "cell_type": "code",
   "execution_count": 32,
   "metadata": {},
   "outputs": [
    {
     "data": {
      "text/plain": [
       "Private Sector - Services     15599\n",
       "Self-Employed (Individual)     1764\n",
       "Public Sector - Others         1419\n",
       "Private Sector - Others         880\n",
       "Self-Employed (Company)         763\n",
       "Public Sector - Government      692\n",
       "Unemployed                       12\n",
       "Never Worked                      7\n",
       "Name: Employment Sector, dtype: int64"
      ]
     },
     "execution_count": 32,
     "metadata": {},
     "output_type": "execute_result"
    }
   ],
   "source": [
    "df_train[\"Employment Sector\"].value_counts()"
   ]
  },
  {
   "cell_type": "code",
   "execution_count": 33,
   "metadata": {
    "scrolled": true
   },
   "outputs": [
    {
     "data": {
      "text/plain": [
       "array(['Repair & constructions', 'Sales', 'Security', 'Professor',\n",
       "       'Cleaners & Handlers', 'Other services',\n",
       "       'Machine Operators & Inspectors', 'Management', 'Administratives',\n",
       "       'Transports', nan, 'Agriculture and Fishing', 'IT',\n",
       "       'Household Services', 'Army'], dtype=object)"
      ]
     },
     "execution_count": 33,
     "metadata": {},
     "output_type": "execute_result"
    }
   ],
   "source": [
    "df_train[\"Role\"].unique()"
   ]
  },
  {
   "cell_type": "code",
   "execution_count": 34,
   "metadata": {},
   "outputs": [
    {
     "data": {
      "text/plain": [
       "Professor                         2849\n",
       "Management                        2797\n",
       "Repair & constructions            2795\n",
       "Administratives                   2608\n",
       "Sales                             2531\n",
       "Other services                    2287\n",
       "Machine Operators & Inspectors    1384\n",
       "Transports                        1071\n",
       "Cleaners & Handlers                922\n",
       "Agriculture and Fishing            702\n",
       "IT                                 626\n",
       "Security                           450\n",
       "Household Services                 102\n",
       "Army                                 5\n",
       "Name: Role, dtype: int64"
      ]
     },
     "execution_count": 34,
     "metadata": {},
     "output_type": "execute_result"
    }
   ],
   "source": [
    "df_train[\"Role\"].value_counts() #although this will give us 14 dummies / 14 columns through OHC, think it's important to maintain\n"
   ]
  },
  {
   "cell_type": "code",
   "execution_count": 35,
   "metadata": {},
   "outputs": [
    {
     "data": {
      "text/plain": [
       "Age                          0\n",
       "Native Continent             0\n",
       "Marital Status               0\n",
       "Lives with                   0\n",
       "Years of Education           0\n",
       "Employment Sector         1264\n",
       "Role                      1271\n",
       "Working Hours per week       0\n",
       "Ticket Price                 0\n",
       "Income                       0\n",
       "Gender                       0\n",
       "dtype: int64"
      ]
     },
     "execution_count": 35,
     "metadata": {},
     "output_type": "execute_result"
    }
   ],
   "source": [
    "# count of missing values for train\n",
    "df_train.isna().sum()"
   ]
  },
  {
   "cell_type": "code",
   "execution_count": 36,
   "metadata": {},
   "outputs": [
    {
     "data": {
      "text/plain": [
       "Age                         0\n",
       "Native Continent            0\n",
       "Marital Status              0\n",
       "Lives with                  0\n",
       "Years of Education          0\n",
       "Employment Sector         570\n",
       "Role                      570\n",
       "Working Hours per week      0\n",
       "Ticket Price                0\n",
       "Gender                      0\n",
       "dtype: int64"
      ]
     },
     "execution_count": 36,
     "metadata": {},
     "output_type": "execute_result"
    }
   ],
   "source": [
    "# count of missing values for test\n",
    "df_test.isna().sum()"
   ]
  },
  {
   "cell_type": "code",
   "execution_count": 37,
   "metadata": {},
   "outputs": [
    {
     "data": {
      "text/plain": [
       "Age                       0\n",
       "Native Continent          0\n",
       "Marital Status            0\n",
       "Lives with                0\n",
       "Years of Education        0\n",
       "Employment Sector         0\n",
       "Role                      0\n",
       "Working Hours per week    0\n",
       "Ticket Price              0\n",
       "Income                    0\n",
       "Gender                    0\n",
       "dtype: int64"
      ]
     },
     "execution_count": 37,
     "metadata": {},
     "output_type": "execute_result"
    }
   ],
   "source": [
    "#deals with missing values of both categorical values differently:\n",
    "\n",
    "#feel comfortable replacing NaNs in 'Emplyment Sector' by mode coz vast majority of entries belong to same class, so this won't have a big impact\n",
    "modes = df_train['Employment Sector'].mode().loc[0]\n",
    "df_train['Employment Sector'].fillna(modes, inplace=True)\n",
    "\n",
    "modes = df_test['Employment Sector'].mode().loc[0]\n",
    "df_test['Employment Sector'].fillna(modes, inplace=True)\n",
    "\n",
    "#since \"Role\" value_counts are so well distributed, we cannot simply replace missing values with mode; best solution here would be to create new categorical of \"Unknown\"\n",
    "df_train['Role'].fillna('Unknown', inplace=True)\n",
    "\n",
    "df_test['Role'].fillna('Unknown', inplace=True)\n",
    "\n",
    "df_train.isna().sum() #checking how many NaNs we still have"
   ]
  },
  {
   "cell_type": "code",
   "execution_count": 38,
   "metadata": {},
   "outputs": [
    {
     "data": {
      "text/html": [
       "<div>\n",
       "<style scoped>\n",
       "    .dataframe tbody tr th:only-of-type {\n",
       "        vertical-align: middle;\n",
       "    }\n",
       "\n",
       "    .dataframe tbody tr th {\n",
       "        vertical-align: top;\n",
       "    }\n",
       "\n",
       "    .dataframe thead th {\n",
       "        text-align: right;\n",
       "    }\n",
       "</style>\n",
       "<table border=\"1\" class=\"dataframe\">\n",
       "  <thead>\n",
       "    <tr style=\"text-align: right;\">\n",
       "      <th></th>\n",
       "      <th>Age</th>\n",
       "      <th>Native Continent</th>\n",
       "      <th>Marital Status</th>\n",
       "      <th>Lives with</th>\n",
       "      <th>Years of Education</th>\n",
       "      <th>Employment Sector</th>\n",
       "      <th>Role</th>\n",
       "      <th>Working Hours per week</th>\n",
       "      <th>Ticket Price</th>\n",
       "      <th>Income</th>\n",
       "      <th>Gender</th>\n",
       "    </tr>\n",
       "    <tr>\n",
       "      <th>CITIZEN_ID</th>\n",
       "      <th></th>\n",
       "      <th></th>\n",
       "      <th></th>\n",
       "      <th></th>\n",
       "      <th></th>\n",
       "      <th></th>\n",
       "      <th></th>\n",
       "      <th></th>\n",
       "      <th></th>\n",
       "      <th></th>\n",
       "      <th></th>\n",
       "    </tr>\n",
       "  </thead>\n",
       "  <tbody>\n",
       "    <tr>\n",
       "      <th>12486</th>\n",
       "      <td>45</td>\n",
       "      <td>Europe</td>\n",
       "      <td>Married</td>\n",
       "      <td>Spouse</td>\n",
       "      <td>13</td>\n",
       "      <td>Private Sector - Services</td>\n",
       "      <td>Repair &amp; constructions</td>\n",
       "      <td>40</td>\n",
       "      <td>2273</td>\n",
       "      <td>1</td>\n",
       "      <td>1</td>\n",
       "    </tr>\n",
       "    <tr>\n",
       "      <th>12487</th>\n",
       "      <td>42</td>\n",
       "      <td>Europe</td>\n",
       "      <td>Married</td>\n",
       "      <td>Spouse</td>\n",
       "      <td>12</td>\n",
       "      <td>Public Sector - Others</td>\n",
       "      <td>Repair &amp; constructions</td>\n",
       "      <td>40</td>\n",
       "      <td>0</td>\n",
       "      <td>1</td>\n",
       "      <td>1</td>\n",
       "    </tr>\n",
       "    <tr>\n",
       "      <th>12488</th>\n",
       "      <td>39</td>\n",
       "      <td>Europe</td>\n",
       "      <td>Married</td>\n",
       "      <td>Spouse</td>\n",
       "      <td>12</td>\n",
       "      <td>Private Sector - Services</td>\n",
       "      <td>Sales</td>\n",
       "      <td>46</td>\n",
       "      <td>2321</td>\n",
       "      <td>1</td>\n",
       "      <td>1</td>\n",
       "    </tr>\n",
       "    <tr>\n",
       "      <th>12489</th>\n",
       "      <td>63</td>\n",
       "      <td>Europe</td>\n",
       "      <td>Married</td>\n",
       "      <td>Spouse</td>\n",
       "      <td>11</td>\n",
       "      <td>Private Sector - Services</td>\n",
       "      <td>Security</td>\n",
       "      <td>37</td>\n",
       "      <td>-5395</td>\n",
       "      <td>1</td>\n",
       "      <td>1</td>\n",
       "    </tr>\n",
       "    <tr>\n",
       "      <th>12490</th>\n",
       "      <td>33</td>\n",
       "      <td>Europe</td>\n",
       "      <td>Single</td>\n",
       "      <td>Other Family</td>\n",
       "      <td>21</td>\n",
       "      <td>Self-Employed (Individual)</td>\n",
       "      <td>Professor</td>\n",
       "      <td>45</td>\n",
       "      <td>0</td>\n",
       "      <td>1</td>\n",
       "      <td>1</td>\n",
       "    </tr>\n",
       "    <tr>\n",
       "      <th>...</th>\n",
       "      <td>...</td>\n",
       "      <td>...</td>\n",
       "      <td>...</td>\n",
       "      <td>...</td>\n",
       "      <td>...</td>\n",
       "      <td>...</td>\n",
       "      <td>...</td>\n",
       "      <td>...</td>\n",
       "      <td>...</td>\n",
       "      <td>...</td>\n",
       "      <td>...</td>\n",
       "    </tr>\n",
       "    <tr>\n",
       "      <th>34881</th>\n",
       "      <td>25</td>\n",
       "      <td>Europe</td>\n",
       "      <td>Divorced</td>\n",
       "      <td>Children</td>\n",
       "      <td>12</td>\n",
       "      <td>Private Sector - Services</td>\n",
       "      <td>Cleaners &amp; Handlers</td>\n",
       "      <td>40</td>\n",
       "      <td>0</td>\n",
       "      <td>0</td>\n",
       "      <td>0</td>\n",
       "    </tr>\n",
       "    <tr>\n",
       "      <th>34882</th>\n",
       "      <td>23</td>\n",
       "      <td>Europe</td>\n",
       "      <td>Single</td>\n",
       "      <td>Children</td>\n",
       "      <td>12</td>\n",
       "      <td>Private Sector - Services</td>\n",
       "      <td>Other services</td>\n",
       "      <td>35</td>\n",
       "      <td>0</td>\n",
       "      <td>0</td>\n",
       "      <td>1</td>\n",
       "    </tr>\n",
       "    <tr>\n",
       "      <th>34883</th>\n",
       "      <td>26</td>\n",
       "      <td>Europe</td>\n",
       "      <td>Single</td>\n",
       "      <td>Other Family</td>\n",
       "      <td>17</td>\n",
       "      <td>Public Sector - Others</td>\n",
       "      <td>Professor</td>\n",
       "      <td>40</td>\n",
       "      <td>-2674</td>\n",
       "      <td>0</td>\n",
       "      <td>0</td>\n",
       "    </tr>\n",
       "    <tr>\n",
       "      <th>34884</th>\n",
       "      <td>37</td>\n",
       "      <td>Europe</td>\n",
       "      <td>Single</td>\n",
       "      <td>Other Family</td>\n",
       "      <td>16</td>\n",
       "      <td>Private Sector - Services</td>\n",
       "      <td>Repair &amp; constructions</td>\n",
       "      <td>90</td>\n",
       "      <td>0</td>\n",
       "      <td>1</td>\n",
       "      <td>1</td>\n",
       "    </tr>\n",
       "    <tr>\n",
       "      <th>34885</th>\n",
       "      <td>22</td>\n",
       "      <td>Asia</td>\n",
       "      <td>Single</td>\n",
       "      <td>Children</td>\n",
       "      <td>13</td>\n",
       "      <td>Private Sector - Services</td>\n",
       "      <td>Transports</td>\n",
       "      <td>40</td>\n",
       "      <td>0</td>\n",
       "      <td>0</td>\n",
       "      <td>1</td>\n",
       "    </tr>\n",
       "  </tbody>\n",
       "</table>\n",
       "<p>22400 rows × 11 columns</p>\n",
       "</div>"
      ],
      "text/plain": [
       "            Age Native Continent Marital Status    Lives with  \\\n",
       "CITIZEN_ID                                                      \n",
       "12486        45           Europe        Married        Spouse   \n",
       "12487        42           Europe        Married        Spouse   \n",
       "12488        39           Europe        Married        Spouse   \n",
       "12489        63           Europe        Married        Spouse   \n",
       "12490        33           Europe         Single  Other Family   \n",
       "...         ...              ...            ...           ...   \n",
       "34881        25           Europe       Divorced      Children   \n",
       "34882        23           Europe         Single      Children   \n",
       "34883        26           Europe         Single  Other Family   \n",
       "34884        37           Europe         Single  Other Family   \n",
       "34885        22             Asia         Single      Children   \n",
       "\n",
       "            Years of Education           Employment Sector  \\\n",
       "CITIZEN_ID                                                   \n",
       "12486                       13  Private Sector - Services    \n",
       "12487                       12      Public Sector - Others   \n",
       "12488                       12  Private Sector - Services    \n",
       "12489                       11  Private Sector - Services    \n",
       "12490                       21  Self-Employed (Individual)   \n",
       "...                        ...                         ...   \n",
       "34881                       12  Private Sector - Services    \n",
       "34882                       12  Private Sector - Services    \n",
       "34883                       17      Public Sector - Others   \n",
       "34884                       16  Private Sector - Services    \n",
       "34885                       13  Private Sector - Services    \n",
       "\n",
       "                              Role  Working Hours per week  Ticket Price  \\\n",
       "CITIZEN_ID                                                                 \n",
       "12486       Repair & constructions                      40          2273   \n",
       "12487       Repair & constructions                      40             0   \n",
       "12488                        Sales                      46          2321   \n",
       "12489                     Security                      37         -5395   \n",
       "12490                    Professor                      45             0   \n",
       "...                            ...                     ...           ...   \n",
       "34881          Cleaners & Handlers                      40             0   \n",
       "34882               Other services                      35             0   \n",
       "34883                    Professor                      40         -2674   \n",
       "34884       Repair & constructions                      90             0   \n",
       "34885                   Transports                      40             0   \n",
       "\n",
       "            Income  Gender  \n",
       "CITIZEN_ID                  \n",
       "12486            1       1  \n",
       "12487            1       1  \n",
       "12488            1       1  \n",
       "12489            1       1  \n",
       "12490            1       1  \n",
       "...            ...     ...  \n",
       "34881            0       0  \n",
       "34882            0       1  \n",
       "34883            0       0  \n",
       "34884            1       1  \n",
       "34885            0       1  \n",
       "\n",
       "[22400 rows x 11 columns]"
      ]
     },
     "execution_count": 38,
     "metadata": {},
     "output_type": "execute_result"
    }
   ],
   "source": [
    "df_train"
   ]
  },
  {
   "cell_type": "code",
   "execution_count": 39,
   "metadata": {},
   "outputs": [
    {
     "data": {
      "text/html": [
       "<div>\n",
       "<style scoped>\n",
       "    .dataframe tbody tr th:only-of-type {\n",
       "        vertical-align: middle;\n",
       "    }\n",
       "\n",
       "    .dataframe tbody tr th {\n",
       "        vertical-align: top;\n",
       "    }\n",
       "\n",
       "    .dataframe thead th {\n",
       "        text-align: right;\n",
       "    }\n",
       "</style>\n",
       "<table border=\"1\" class=\"dataframe\">\n",
       "  <thead>\n",
       "    <tr style=\"text-align: right;\">\n",
       "      <th></th>\n",
       "      <th>Age</th>\n",
       "      <th>Native Continent</th>\n",
       "      <th>Marital Status</th>\n",
       "      <th>Lives with</th>\n",
       "      <th>Years of Education</th>\n",
       "      <th>Employment Sector</th>\n",
       "      <th>Role</th>\n",
       "      <th>Working Hours per week</th>\n",
       "      <th>Ticket Price</th>\n",
       "      <th>Gender</th>\n",
       "    </tr>\n",
       "    <tr>\n",
       "      <th>CITIZEN_ID</th>\n",
       "      <th></th>\n",
       "      <th></th>\n",
       "      <th></th>\n",
       "      <th></th>\n",
       "      <th></th>\n",
       "      <th></th>\n",
       "      <th></th>\n",
       "      <th></th>\n",
       "      <th></th>\n",
       "      <th></th>\n",
       "    </tr>\n",
       "  </thead>\n",
       "  <tbody>\n",
       "    <tr>\n",
       "      <th>34886</th>\n",
       "      <td>36</td>\n",
       "      <td>Europe</td>\n",
       "      <td>Married</td>\n",
       "      <td>Spouse</td>\n",
       "      <td>16</td>\n",
       "      <td>Private Sector - Services</td>\n",
       "      <td>Sales</td>\n",
       "      <td>40</td>\n",
       "      <td>0</td>\n",
       "      <td>1</td>\n",
       "    </tr>\n",
       "    <tr>\n",
       "      <th>34887</th>\n",
       "      <td>34</td>\n",
       "      <td>Europe</td>\n",
       "      <td>Single</td>\n",
       "      <td>Other Family</td>\n",
       "      <td>16</td>\n",
       "      <td>Private Sector - Services</td>\n",
       "      <td>Professor</td>\n",
       "      <td>36</td>\n",
       "      <td>0</td>\n",
       "      <td>0</td>\n",
       "    </tr>\n",
       "    <tr>\n",
       "      <th>34888</th>\n",
       "      <td>28</td>\n",
       "      <td>Europe</td>\n",
       "      <td>Divorced</td>\n",
       "      <td>Other Family</td>\n",
       "      <td>13</td>\n",
       "      <td>Private Sector - Services</td>\n",
       "      <td>Management</td>\n",
       "      <td>50</td>\n",
       "      <td>-12940</td>\n",
       "      <td>1</td>\n",
       "    </tr>\n",
       "    <tr>\n",
       "      <th>34889</th>\n",
       "      <td>32</td>\n",
       "      <td>Europe</td>\n",
       "      <td>Married</td>\n",
       "      <td>Spouse</td>\n",
       "      <td>12</td>\n",
       "      <td>Private Sector - Services</td>\n",
       "      <td>Professor</td>\n",
       "      <td>48</td>\n",
       "      <td>1827</td>\n",
       "      <td>1</td>\n",
       "    </tr>\n",
       "    <tr>\n",
       "      <th>34890</th>\n",
       "      <td>37</td>\n",
       "      <td>Europe</td>\n",
       "      <td>Married</td>\n",
       "      <td>Spouse</td>\n",
       "      <td>15</td>\n",
       "      <td>Public Sector - Others</td>\n",
       "      <td>Professor</td>\n",
       "      <td>45</td>\n",
       "      <td>0</td>\n",
       "      <td>1</td>\n",
       "    </tr>\n",
       "    <tr>\n",
       "      <th>...</th>\n",
       "      <td>...</td>\n",
       "      <td>...</td>\n",
       "      <td>...</td>\n",
       "      <td>...</td>\n",
       "      <td>...</td>\n",
       "      <td>...</td>\n",
       "      <td>...</td>\n",
       "      <td>...</td>\n",
       "      <td>...</td>\n",
       "      <td>...</td>\n",
       "    </tr>\n",
       "    <tr>\n",
       "      <th>44981</th>\n",
       "      <td>36</td>\n",
       "      <td>Europe</td>\n",
       "      <td>Married</td>\n",
       "      <td>Spouse</td>\n",
       "      <td>17</td>\n",
       "      <td>Private Sector - Services</td>\n",
       "      <td>Professor</td>\n",
       "      <td>60</td>\n",
       "      <td>2432</td>\n",
       "      <td>1</td>\n",
       "    </tr>\n",
       "    <tr>\n",
       "      <th>44982</th>\n",
       "      <td>48</td>\n",
       "      <td>Europe</td>\n",
       "      <td>Divorced</td>\n",
       "      <td>Other Family</td>\n",
       "      <td>17</td>\n",
       "      <td>Private Sector - Services</td>\n",
       "      <td>Management</td>\n",
       "      <td>50</td>\n",
       "      <td>-122999</td>\n",
       "      <td>1</td>\n",
       "    </tr>\n",
       "    <tr>\n",
       "      <th>44983</th>\n",
       "      <td>26</td>\n",
       "      <td>Europe</td>\n",
       "      <td>Single</td>\n",
       "      <td>Alone</td>\n",
       "      <td>13</td>\n",
       "      <td>Public Sector - Government</td>\n",
       "      <td>Administratives</td>\n",
       "      <td>15</td>\n",
       "      <td>0</td>\n",
       "      <td>0</td>\n",
       "    </tr>\n",
       "    <tr>\n",
       "      <th>44984</th>\n",
       "      <td>24</td>\n",
       "      <td>Europe</td>\n",
       "      <td>Single</td>\n",
       "      <td>Children</td>\n",
       "      <td>16</td>\n",
       "      <td>Private Sector - Services</td>\n",
       "      <td>Administratives</td>\n",
       "      <td>40</td>\n",
       "      <td>0</td>\n",
       "      <td>0</td>\n",
       "    </tr>\n",
       "    <tr>\n",
       "      <th>44985</th>\n",
       "      <td>55</td>\n",
       "      <td>Europe</td>\n",
       "      <td>Married</td>\n",
       "      <td>Spouse</td>\n",
       "      <td>8</td>\n",
       "      <td>Private Sector - Services</td>\n",
       "      <td>Transports</td>\n",
       "      <td>50</td>\n",
       "      <td>0</td>\n",
       "      <td>1</td>\n",
       "    </tr>\n",
       "  </tbody>\n",
       "</table>\n",
       "<p>10100 rows × 10 columns</p>\n",
       "</div>"
      ],
      "text/plain": [
       "            Age Native Continent Marital Status    Lives with  \\\n",
       "CITIZEN_ID                                                      \n",
       "34886        36           Europe        Married        Spouse   \n",
       "34887        34           Europe         Single  Other Family   \n",
       "34888        28           Europe       Divorced  Other Family   \n",
       "34889        32           Europe        Married        Spouse   \n",
       "34890        37           Europe        Married        Spouse   \n",
       "...         ...              ...            ...           ...   \n",
       "44981        36           Europe        Married        Spouse   \n",
       "44982        48           Europe       Divorced  Other Family   \n",
       "44983        26           Europe         Single         Alone   \n",
       "44984        24           Europe         Single      Children   \n",
       "44985        55           Europe        Married        Spouse   \n",
       "\n",
       "            Years of Education           Employment Sector             Role  \\\n",
       "CITIZEN_ID                                                                    \n",
       "34886                       16  Private Sector - Services             Sales   \n",
       "34887                       16  Private Sector - Services         Professor   \n",
       "34888                       13  Private Sector - Services        Management   \n",
       "34889                       12  Private Sector - Services         Professor   \n",
       "34890                       15      Public Sector - Others        Professor   \n",
       "...                        ...                         ...              ...   \n",
       "44981                       17  Private Sector - Services         Professor   \n",
       "44982                       17  Private Sector - Services        Management   \n",
       "44983                       13  Public Sector - Government  Administratives   \n",
       "44984                       16  Private Sector - Services   Administratives   \n",
       "44985                        8  Private Sector - Services        Transports   \n",
       "\n",
       "            Working Hours per week  Ticket Price  Gender  \n",
       "CITIZEN_ID                                                \n",
       "34886                           40             0       1  \n",
       "34887                           36             0       0  \n",
       "34888                           50        -12940       1  \n",
       "34889                           48          1827       1  \n",
       "34890                           45             0       1  \n",
       "...                            ...           ...     ...  \n",
       "44981                           60          2432       1  \n",
       "44982                           50       -122999       1  \n",
       "44983                           15             0       0  \n",
       "44984                           40             0       0  \n",
       "44985                           50             0       1  \n",
       "\n",
       "[10100 rows x 10 columns]"
      ]
     },
     "execution_count": 39,
     "metadata": {},
     "output_type": "execute_result"
    }
   ],
   "source": [
    "df_test"
   ]
  },
  {
   "cell_type": "code",
   "execution_count": 40,
   "metadata": {},
   "outputs": [],
   "source": [
    "import matplotlib.pyplot as plt\n",
    "import seaborn as sns\n",
    "\n",
    "def cor_heatmap(cor):\n",
    "    plt.figure(figsize=(12,10))\n",
    "    sns.heatmap(data = cor, annot = True, cmap = plt.cm.Reds, fmt='.1')\n",
    "    plt.show()"
   ]
  },
  {
   "cell_type": "code",
   "execution_count": 41,
   "metadata": {},
   "outputs": [
    {
     "data": {
      "image/png": "[encoded data removed]",
      "text/plain": [
       "<Figure size 864x720 with 2 Axes>"
      ]
     },
     "metadata": {
      "needs_background": "light"
     },
     "output_type": "display_data"
    }
   ],
   "source": [
    "cor_pearson = df_train.corr()\n",
    "cor_heatmap(cor_pearson)"
   ]
  },
  {
   "cell_type": "code",
   "execution_count": 42,
   "metadata": {},
   "outputs": [],
   "source": [
    "#continuous variables don't seem to be highly correlated, let's mantain them all!"
   ]
  },
  {
   "cell_type": "markdown",
   "metadata": {},
   "source": [
    "ONE-HOT ENCODING TO ENCODE CATEGORICAL VARIABLES"
   ]
  },
  {
   "cell_type": "markdown",
   "metadata": {},
   "source": [
    "Note the following: after applying OHC, df_test is missing two columns: Income (expected) and 'x3_Private Sector - Services' - don't forget to deal with this later, otherwise issues will arise; this happened because \"Never worked\" is not present in the test dataset; thus, thus column will be merged with \"Unemployed\" in the train dataset to avoid further issues. Both of them are very low represented and probably have low predictive power, so this shouldn't be an issue."
   ]
  },
  {
   "cell_type": "code",
   "execution_count": 43,
   "metadata": {},
   "outputs": [],
   "source": [
    "df_train['Employment Sector'].replace('Never Worked', 'Not working', inplace = True)\n",
    "df_train['Employment Sector'].replace('Unemployed', 'Not working', inplace = True)"
   ]
  },
  {
   "cell_type": "code",
   "execution_count": 44,
   "metadata": {},
   "outputs": [
    {
     "data": {
      "text/plain": [
       "array(['Private Sector - Services ', 'Public Sector - Others',\n",
       "       'Self-Employed (Individual)', 'Private Sector - Others',\n",
       "       'Self-Employed (Company)', 'Public Sector - Government',\n",
       "       'Not working'], dtype=object)"
      ]
     },
     "execution_count": 44,
     "metadata": {},
     "output_type": "execute_result"
    }
   ],
   "source": [
    "df_train['Employment Sector'].unique()"
   ]
  },
  {
   "cell_type": "code",
   "execution_count": 45,
   "metadata": {},
   "outputs": [],
   "source": [
    "df_ohc_train = df_train.copy()\n",
    "df_ohc_test = df_test.copy()"
   ]
  },
  {
   "cell_type": "code",
   "execution_count": 46,
   "metadata": {},
   "outputs": [],
   "source": [
    "non_metric_features = ['Native Continent', 'Marital Status', 'Lives with', 'Employment Sector', 'Role']"
   ]
  },
  {
   "cell_type": "code",
   "execution_count": 47,
   "metadata": {},
   "outputs": [
    {
     "data": {
      "text/html": [
       "<div>\n",
       "<style scoped>\n",
       "    .dataframe tbody tr th:only-of-type {\n",
       "        vertical-align: middle;\n",
       "    }\n",
       "\n",
       "    .dataframe tbody tr th {\n",
       "        vertical-align: top;\n",
       "    }\n",
       "\n",
       "    .dataframe thead th {\n",
       "        text-align: right;\n",
       "    }\n",
       "</style>\n",
       "<table border=\"1\" class=\"dataframe\">\n",
       "  <thead>\n",
       "    <tr style=\"text-align: right;\">\n",
       "      <th></th>\n",
       "      <th>x0_America</th>\n",
       "      <th>x0_Asia</th>\n",
       "      <th>x0_Europe</th>\n",
       "      <th>x0_Oceania</th>\n",
       "      <th>x1_Married</th>\n",
       "      <th>x1_Separated</th>\n",
       "      <th>x1_Single</th>\n",
       "      <th>x1_Widow</th>\n",
       "      <th>x2_Children</th>\n",
       "      <th>x2_Other Family</th>\n",
       "      <th>...</th>\n",
       "      <th>x4_IT</th>\n",
       "      <th>x4_Machine Operators &amp; Inspectors</th>\n",
       "      <th>x4_Management</th>\n",
       "      <th>x4_Other services</th>\n",
       "      <th>x4_Professor</th>\n",
       "      <th>x4_Repair &amp; constructions</th>\n",
       "      <th>x4_Sales</th>\n",
       "      <th>x4_Security</th>\n",
       "      <th>x4_Transports</th>\n",
       "      <th>x4_Unknown</th>\n",
       "    </tr>\n",
       "    <tr>\n",
       "      <th>CITIZEN_ID</th>\n",
       "      <th></th>\n",
       "      <th></th>\n",
       "      <th></th>\n",
       "      <th></th>\n",
       "      <th></th>\n",
       "      <th></th>\n",
       "      <th></th>\n",
       "      <th></th>\n",
       "      <th></th>\n",
       "      <th></th>\n",
       "      <th></th>\n",
       "      <th></th>\n",
       "      <th></th>\n",
       "      <th></th>\n",
       "      <th></th>\n",
       "      <th></th>\n",
       "      <th></th>\n",
       "      <th></th>\n",
       "      <th></th>\n",
       "      <th></th>\n",
       "      <th></th>\n",
       "    </tr>\n",
       "  </thead>\n",
       "  <tbody>\n",
       "    <tr>\n",
       "      <th>12486</th>\n",
       "      <td>0.0</td>\n",
       "      <td>0.0</td>\n",
       "      <td>1.0</td>\n",
       "      <td>0.0</td>\n",
       "      <td>1.0</td>\n",
       "      <td>0.0</td>\n",
       "      <td>0.0</td>\n",
       "      <td>0.0</td>\n",
       "      <td>0.0</td>\n",
       "      <td>0.0</td>\n",
       "      <td>...</td>\n",
       "      <td>0.0</td>\n",
       "      <td>0.0</td>\n",
       "      <td>0.0</td>\n",
       "      <td>0.0</td>\n",
       "      <td>0.0</td>\n",
       "      <td>1.0</td>\n",
       "      <td>0.0</td>\n",
       "      <td>0.0</td>\n",
       "      <td>0.0</td>\n",
       "      <td>0.0</td>\n",
       "    </tr>\n",
       "    <tr>\n",
       "      <th>12487</th>\n",
       "      <td>0.0</td>\n",
       "      <td>0.0</td>\n",
       "      <td>1.0</td>\n",
       "      <td>0.0</td>\n",
       "      <td>1.0</td>\n",
       "      <td>0.0</td>\n",
       "      <td>0.0</td>\n",
       "      <td>0.0</td>\n",
       "      <td>0.0</td>\n",
       "      <td>0.0</td>\n",
       "      <td>...</td>\n",
       "      <td>0.0</td>\n",
       "      <td>0.0</td>\n",
       "      <td>0.0</td>\n",
       "      <td>0.0</td>\n",
       "      <td>0.0</td>\n",
       "      <td>1.0</td>\n",
       "      <td>0.0</td>\n",
       "      <td>0.0</td>\n",
       "      <td>0.0</td>\n",
       "      <td>0.0</td>\n",
       "    </tr>\n",
       "    <tr>\n",
       "      <th>12488</th>\n",
       "      <td>0.0</td>\n",
       "      <td>0.0</td>\n",
       "      <td>1.0</td>\n",
       "      <td>0.0</td>\n",
       "      <td>1.0</td>\n",
       "      <td>0.0</td>\n",
       "      <td>0.0</td>\n",
       "      <td>0.0</td>\n",
       "      <td>0.0</td>\n",
       "      <td>0.0</td>\n",
       "      <td>...</td>\n",
       "      <td>0.0</td>\n",
       "      <td>0.0</td>\n",
       "      <td>0.0</td>\n",
       "      <td>0.0</td>\n",
       "      <td>0.0</td>\n",
       "      <td>0.0</td>\n",
       "      <td>1.0</td>\n",
       "      <td>0.0</td>\n",
       "      <td>0.0</td>\n",
       "      <td>0.0</td>\n",
       "    </tr>\n",
       "    <tr>\n",
       "      <th>12489</th>\n",
       "      <td>0.0</td>\n",
       "      <td>0.0</td>\n",
       "      <td>1.0</td>\n",
       "      <td>0.0</td>\n",
       "      <td>1.0</td>\n",
       "      <td>0.0</td>\n",
       "      <td>0.0</td>\n",
       "      <td>0.0</td>\n",
       "      <td>0.0</td>\n",
       "      <td>0.0</td>\n",
       "      <td>...</td>\n",
       "      <td>0.0</td>\n",
       "      <td>0.0</td>\n",
       "      <td>0.0</td>\n",
       "      <td>0.0</td>\n",
       "      <td>0.0</td>\n",
       "      <td>0.0</td>\n",
       "      <td>0.0</td>\n",
       "      <td>1.0</td>\n",
       "      <td>0.0</td>\n",
       "      <td>0.0</td>\n",
       "    </tr>\n",
       "    <tr>\n",
       "      <th>12490</th>\n",
       "      <td>0.0</td>\n",
       "      <td>0.0</td>\n",
       "      <td>1.0</td>\n",
       "      <td>0.0</td>\n",
       "      <td>0.0</td>\n",
       "      <td>0.0</td>\n",
       "      <td>1.0</td>\n",
       "      <td>0.0</td>\n",
       "      <td>0.0</td>\n",
       "      <td>1.0</td>\n",
       "      <td>...</td>\n",
       "      <td>0.0</td>\n",
       "      <td>0.0</td>\n",
       "      <td>0.0</td>\n",
       "      <td>0.0</td>\n",
       "      <td>1.0</td>\n",
       "      <td>0.0</td>\n",
       "      <td>0.0</td>\n",
       "      <td>0.0</td>\n",
       "      <td>0.0</td>\n",
       "      <td>0.0</td>\n",
       "    </tr>\n",
       "    <tr>\n",
       "      <th>...</th>\n",
       "      <td>...</td>\n",
       "      <td>...</td>\n",
       "      <td>...</td>\n",
       "      <td>...</td>\n",
       "      <td>...</td>\n",
       "      <td>...</td>\n",
       "      <td>...</td>\n",
       "      <td>...</td>\n",
       "      <td>...</td>\n",
       "      <td>...</td>\n",
       "      <td>...</td>\n",
       "      <td>...</td>\n",
       "      <td>...</td>\n",
       "      <td>...</td>\n",
       "      <td>...</td>\n",
       "      <td>...</td>\n",
       "      <td>...</td>\n",
       "      <td>...</td>\n",
       "      <td>...</td>\n",
       "      <td>...</td>\n",
       "      <td>...</td>\n",
       "    </tr>\n",
       "    <tr>\n",
       "      <th>34881</th>\n",
       "      <td>0.0</td>\n",
       "      <td>0.0</td>\n",
       "      <td>1.0</td>\n",
       "      <td>0.0</td>\n",
       "      <td>0.0</td>\n",
       "      <td>0.0</td>\n",
       "      <td>0.0</td>\n",
       "      <td>0.0</td>\n",
       "      <td>1.0</td>\n",
       "      <td>0.0</td>\n",
       "      <td>...</td>\n",
       "      <td>0.0</td>\n",
       "      <td>0.0</td>\n",
       "      <td>0.0</td>\n",
       "      <td>0.0</td>\n",
       "      <td>0.0</td>\n",
       "      <td>0.0</td>\n",
       "      <td>0.0</td>\n",
       "      <td>0.0</td>\n",
       "      <td>0.0</td>\n",
       "      <td>0.0</td>\n",
       "    </tr>\n",
       "    <tr>\n",
       "      <th>34882</th>\n",
       "      <td>0.0</td>\n",
       "      <td>0.0</td>\n",
       "      <td>1.0</td>\n",
       "      <td>0.0</td>\n",
       "      <td>0.0</td>\n",
       "      <td>0.0</td>\n",
       "      <td>1.0</td>\n",
       "      <td>0.0</td>\n",
       "      <td>1.0</td>\n",
       "      <td>0.0</td>\n",
       "      <td>...</td>\n",
       "      <td>0.0</td>\n",
       "      <td>0.0</td>\n",
       "      <td>0.0</td>\n",
       "      <td>1.0</td>\n",
       "      <td>0.0</td>\n",
       "      <td>0.0</td>\n",
       "      <td>0.0</td>\n",
       "      <td>0.0</td>\n",
       "      <td>0.0</td>\n",
       "      <td>0.0</td>\n",
       "    </tr>\n",
       "    <tr>\n",
       "      <th>34883</th>\n",
       "      <td>0.0</td>\n",
       "      <td>0.0</td>\n",
       "      <td>1.0</td>\n",
       "      <td>0.0</td>\n",
       "      <td>0.0</td>\n",
       "      <td>0.0</td>\n",
       "      <td>1.0</td>\n",
       "      <td>0.0</td>\n",
       "      <td>0.0</td>\n",
       "      <td>1.0</td>\n",
       "      <td>...</td>\n",
       "      <td>0.0</td>\n",
       "      <td>0.0</td>\n",
       "      <td>0.0</td>\n",
       "      <td>0.0</td>\n",
       "      <td>1.0</td>\n",
       "      <td>0.0</td>\n",
       "      <td>0.0</td>\n",
       "      <td>0.0</td>\n",
       "      <td>0.0</td>\n",
       "      <td>0.0</td>\n",
       "    </tr>\n",
       "    <tr>\n",
       "      <th>34884</th>\n",
       "      <td>0.0</td>\n",
       "      <td>0.0</td>\n",
       "      <td>1.0</td>\n",
       "      <td>0.0</td>\n",
       "      <td>0.0</td>\n",
       "      <td>0.0</td>\n",
       "      <td>1.0</td>\n",
       "      <td>0.0</td>\n",
       "      <td>0.0</td>\n",
       "      <td>1.0</td>\n",
       "      <td>...</td>\n",
       "      <td>0.0</td>\n",
       "      <td>0.0</td>\n",
       "      <td>0.0</td>\n",
       "      <td>0.0</td>\n",
       "      <td>0.0</td>\n",
       "      <td>1.0</td>\n",
       "      <td>0.0</td>\n",
       "      <td>0.0</td>\n",
       "      <td>0.0</td>\n",
       "      <td>0.0</td>\n",
       "    </tr>\n",
       "    <tr>\n",
       "      <th>34885</th>\n",
       "      <td>0.0</td>\n",
       "      <td>1.0</td>\n",
       "      <td>0.0</td>\n",
       "      <td>0.0</td>\n",
       "      <td>0.0</td>\n",
       "      <td>0.0</td>\n",
       "      <td>1.0</td>\n",
       "      <td>0.0</td>\n",
       "      <td>1.0</td>\n",
       "      <td>0.0</td>\n",
       "      <td>...</td>\n",
       "      <td>0.0</td>\n",
       "      <td>0.0</td>\n",
       "      <td>0.0</td>\n",
       "      <td>0.0</td>\n",
       "      <td>0.0</td>\n",
       "      <td>0.0</td>\n",
       "      <td>0.0</td>\n",
       "      <td>0.0</td>\n",
       "      <td>1.0</td>\n",
       "      <td>0.0</td>\n",
       "    </tr>\n",
       "  </tbody>\n",
       "</table>\n",
       "<p>22400 rows × 32 columns</p>\n",
       "</div>"
      ],
      "text/plain": [
       "            x0_America  x0_Asia  x0_Europe  x0_Oceania  x1_Married  \\\n",
       "CITIZEN_ID                                                           \n",
       "12486              0.0      0.0        1.0         0.0         1.0   \n",
       "12487              0.0      0.0        1.0         0.0         1.0   \n",
       "12488              0.0      0.0        1.0         0.0         1.0   \n",
       "12489              0.0      0.0        1.0         0.0         1.0   \n",
       "12490              0.0      0.0        1.0         0.0         0.0   \n",
       "...                ...      ...        ...         ...         ...   \n",
       "34881              0.0      0.0        1.0         0.0         0.0   \n",
       "34882              0.0      0.0        1.0         0.0         0.0   \n",
       "34883              0.0      0.0        1.0         0.0         0.0   \n",
       "34884              0.0      0.0        1.0         0.0         0.0   \n",
       "34885              0.0      1.0        0.0         0.0         0.0   \n",
       "\n",
       "            x1_Separated  x1_Single  x1_Widow  x2_Children  x2_Other Family  \\\n",
       "CITIZEN_ID                                                                    \n",
       "12486                0.0        0.0       0.0          0.0              0.0   \n",
       "12487                0.0        0.0       0.0          0.0              0.0   \n",
       "12488                0.0        0.0       0.0          0.0              0.0   \n",
       "12489                0.0        0.0       0.0          0.0              0.0   \n",
       "12490                0.0        1.0       0.0          0.0              1.0   \n",
       "...                  ...        ...       ...          ...              ...   \n",
       "34881                0.0        0.0       0.0          1.0              0.0   \n",
       "34882                0.0        1.0       0.0          1.0              0.0   \n",
       "34883                0.0        1.0       0.0          0.0              1.0   \n",
       "34884                0.0        1.0       0.0          0.0              1.0   \n",
       "34885                0.0        1.0       0.0          1.0              0.0   \n",
       "\n",
       "            ...  x4_IT  x4_Machine Operators & Inspectors  x4_Management  \\\n",
       "CITIZEN_ID  ...                                                            \n",
       "12486       ...    0.0                                0.0            0.0   \n",
       "12487       ...    0.0                                0.0            0.0   \n",
       "12488       ...    0.0                                0.0            0.0   \n",
       "12489       ...    0.0                                0.0            0.0   \n",
       "12490       ...    0.0                                0.0            0.0   \n",
       "...         ...    ...                                ...            ...   \n",
       "34881       ...    0.0                                0.0            0.0   \n",
       "34882       ...    0.0                                0.0            0.0   \n",
       "34883       ...    0.0                                0.0            0.0   \n",
       "34884       ...    0.0                                0.0            0.0   \n",
       "34885       ...    0.0                                0.0            0.0   \n",
       "\n",
       "            x4_Other services  x4_Professor  x4_Repair & constructions  \\\n",
       "CITIZEN_ID                                                               \n",
       "12486                     0.0           0.0                        1.0   \n",
       "12487                     0.0           0.0                        1.0   \n",
       "12488                     0.0           0.0                        0.0   \n",
       "12489                     0.0           0.0                        0.0   \n",
       "12490                     0.0           1.0                        0.0   \n",
       "...                       ...           ...                        ...   \n",
       "34881                     0.0           0.0                        0.0   \n",
       "34882                     1.0           0.0                        0.0   \n",
       "34883                     0.0           1.0                        0.0   \n",
       "34884                     0.0           0.0                        1.0   \n",
       "34885                     0.0           0.0                        0.0   \n",
       "\n",
       "            x4_Sales  x4_Security  x4_Transports  x4_Unknown  \n",
       "CITIZEN_ID                                                    \n",
       "12486            0.0          0.0            0.0         0.0  \n",
       "12487            0.0          0.0            0.0         0.0  \n",
       "12488            1.0          0.0            0.0         0.0  \n",
       "12489            0.0          1.0            0.0         0.0  \n",
       "12490            0.0          0.0            0.0         0.0  \n",
       "...              ...          ...            ...         ...  \n",
       "34881            0.0          0.0            0.0         0.0  \n",
       "34882            0.0          0.0            0.0         0.0  \n",
       "34883            0.0          0.0            0.0         0.0  \n",
       "34884            0.0          0.0            0.0         0.0  \n",
       "34885            0.0          0.0            1.0         0.0  \n",
       "\n",
       "[22400 rows x 32 columns]"
      ]
     },
     "execution_count": 47,
     "metadata": {},
     "output_type": "execute_result"
    }
   ],
   "source": [
    "# Use OneHotEncoder to encode the categorical features. Get feature names and create a DataFrame \n",
    "# with the one-hot encoded categorical features (pass feature names)\n",
    "ohc = OneHotEncoder(sparse=False, drop=\"first\")\n",
    "ohc_feat_train = ohc.fit_transform(df_ohc_train[non_metric_features])\n",
    "ohc_feat_names = ohc.get_feature_names()\n",
    "ohc_df_train = pd.DataFrame(ohc_feat_train, index=df_ohc_train.index, columns=ohc_feat_names)  # Why the index=df_ohc.index?\n",
    "\n",
    "ohc = OneHotEncoder(sparse=False, drop=\"first\")\n",
    "ohc_feat_test = ohc.fit_transform(df_ohc_test[non_metric_features])\n",
    "ohc_feat_names = ohc.get_feature_names()\n",
    "ohc_df_test = pd.DataFrame(ohc_feat_test, index=df_ohc_test.index, columns=ohc_feat_names)\n",
    "\n",
    "\n",
    "ohc_df_train #show train ohc"
   ]
  },
  {
   "cell_type": "code",
   "execution_count": 48,
   "metadata": {},
   "outputs": [
    {
     "data": {
      "text/html": [
       "<div>\n",
       "<style scoped>\n",
       "    .dataframe tbody tr th:only-of-type {\n",
       "        vertical-align: middle;\n",
       "    }\n",
       "\n",
       "    .dataframe tbody tr th {\n",
       "        vertical-align: top;\n",
       "    }\n",
       "\n",
       "    .dataframe thead th {\n",
       "        text-align: right;\n",
       "    }\n",
       "</style>\n",
       "<table border=\"1\" class=\"dataframe\">\n",
       "  <thead>\n",
       "    <tr style=\"text-align: right;\">\n",
       "      <th></th>\n",
       "      <th>Age</th>\n",
       "      <th>Years of Education</th>\n",
       "      <th>Working Hours per week</th>\n",
       "      <th>Ticket Price</th>\n",
       "      <th>Income</th>\n",
       "      <th>Gender</th>\n",
       "      <th>x0_America</th>\n",
       "      <th>x0_Asia</th>\n",
       "      <th>x0_Europe</th>\n",
       "      <th>x0_Oceania</th>\n",
       "      <th>...</th>\n",
       "      <th>x4_IT</th>\n",
       "      <th>x4_Machine Operators &amp; Inspectors</th>\n",
       "      <th>x4_Management</th>\n",
       "      <th>x4_Other services</th>\n",
       "      <th>x4_Professor</th>\n",
       "      <th>x4_Repair &amp; constructions</th>\n",
       "      <th>x4_Sales</th>\n",
       "      <th>x4_Security</th>\n",
       "      <th>x4_Transports</th>\n",
       "      <th>x4_Unknown</th>\n",
       "    </tr>\n",
       "    <tr>\n",
       "      <th>CITIZEN_ID</th>\n",
       "      <th></th>\n",
       "      <th></th>\n",
       "      <th></th>\n",
       "      <th></th>\n",
       "      <th></th>\n",
       "      <th></th>\n",
       "      <th></th>\n",
       "      <th></th>\n",
       "      <th></th>\n",
       "      <th></th>\n",
       "      <th></th>\n",
       "      <th></th>\n",
       "      <th></th>\n",
       "      <th></th>\n",
       "      <th></th>\n",
       "      <th></th>\n",
       "      <th></th>\n",
       "      <th></th>\n",
       "      <th></th>\n",
       "      <th></th>\n",
       "      <th></th>\n",
       "    </tr>\n",
       "  </thead>\n",
       "  <tbody>\n",
       "    <tr>\n",
       "      <th>12486</th>\n",
       "      <td>45</td>\n",
       "      <td>13</td>\n",
       "      <td>40</td>\n",
       "      <td>2273</td>\n",
       "      <td>1</td>\n",
       "      <td>1</td>\n",
       "      <td>0.0</td>\n",
       "      <td>0.0</td>\n",
       "      <td>1.0</td>\n",
       "      <td>0.0</td>\n",
       "      <td>...</td>\n",
       "      <td>0.0</td>\n",
       "      <td>0.0</td>\n",
       "      <td>0.0</td>\n",
       "      <td>0.0</td>\n",
       "      <td>0.0</td>\n",
       "      <td>1.0</td>\n",
       "      <td>0.0</td>\n",
       "      <td>0.0</td>\n",
       "      <td>0.0</td>\n",
       "      <td>0.0</td>\n",
       "    </tr>\n",
       "    <tr>\n",
       "      <th>12487</th>\n",
       "      <td>42</td>\n",
       "      <td>12</td>\n",
       "      <td>40</td>\n",
       "      <td>0</td>\n",
       "      <td>1</td>\n",
       "      <td>1</td>\n",
       "      <td>0.0</td>\n",
       "      <td>0.0</td>\n",
       "      <td>1.0</td>\n",
       "      <td>0.0</td>\n",
       "      <td>...</td>\n",
       "      <td>0.0</td>\n",
       "      <td>0.0</td>\n",
       "      <td>0.0</td>\n",
       "      <td>0.0</td>\n",
       "      <td>0.0</td>\n",
       "      <td>1.0</td>\n",
       "      <td>0.0</td>\n",
       "      <td>0.0</td>\n",
       "      <td>0.0</td>\n",
       "      <td>0.0</td>\n",
       "    </tr>\n",
       "    <tr>\n",
       "      <th>12488</th>\n",
       "      <td>39</td>\n",
       "      <td>12</td>\n",
       "      <td>46</td>\n",
       "      <td>2321</td>\n",
       "      <td>1</td>\n",
       "      <td>1</td>\n",
       "      <td>0.0</td>\n",
       "      <td>0.0</td>\n",
       "      <td>1.0</td>\n",
       "      <td>0.0</td>\n",
       "      <td>...</td>\n",
       "      <td>0.0</td>\n",
       "      <td>0.0</td>\n",
       "      <td>0.0</td>\n",
       "      <td>0.0</td>\n",
       "      <td>0.0</td>\n",
       "      <td>0.0</td>\n",
       "      <td>1.0</td>\n",
       "      <td>0.0</td>\n",
       "      <td>0.0</td>\n",
       "      <td>0.0</td>\n",
       "    </tr>\n",
       "    <tr>\n",
       "      <th>12489</th>\n",
       "      <td>63</td>\n",
       "      <td>11</td>\n",
       "      <td>37</td>\n",
       "      <td>-5395</td>\n",
       "      <td>1</td>\n",
       "      <td>1</td>\n",
       "      <td>0.0</td>\n",
       "      <td>0.0</td>\n",
       "      <td>1.0</td>\n",
       "      <td>0.0</td>\n",
       "      <td>...</td>\n",
       "      <td>0.0</td>\n",
       "      <td>0.0</td>\n",
       "      <td>0.0</td>\n",
       "      <td>0.0</td>\n",
       "      <td>0.0</td>\n",
       "      <td>0.0</td>\n",
       "      <td>0.0</td>\n",
       "      <td>1.0</td>\n",
       "      <td>0.0</td>\n",
       "      <td>0.0</td>\n",
       "    </tr>\n",
       "    <tr>\n",
       "      <th>12490</th>\n",
       "      <td>33</td>\n",
       "      <td>21</td>\n",
       "      <td>45</td>\n",
       "      <td>0</td>\n",
       "      <td>1</td>\n",
       "      <td>1</td>\n",
       "      <td>0.0</td>\n",
       "      <td>0.0</td>\n",
       "      <td>1.0</td>\n",
       "      <td>0.0</td>\n",
       "      <td>...</td>\n",
       "      <td>0.0</td>\n",
       "      <td>0.0</td>\n",
       "      <td>0.0</td>\n",
       "      <td>0.0</td>\n",
       "      <td>1.0</td>\n",
       "      <td>0.0</td>\n",
       "      <td>0.0</td>\n",
       "      <td>0.0</td>\n",
       "      <td>0.0</td>\n",
       "      <td>0.0</td>\n",
       "    </tr>\n",
       "  </tbody>\n",
       "</table>\n",
       "<p>5 rows × 38 columns</p>\n",
       "</div>"
      ],
      "text/plain": [
       "            Age  Years of Education  Working Hours per week  Ticket Price  \\\n",
       "CITIZEN_ID                                                                  \n",
       "12486        45                  13                      40          2273   \n",
       "12487        42                  12                      40             0   \n",
       "12488        39                  12                      46          2321   \n",
       "12489        63                  11                      37         -5395   \n",
       "12490        33                  21                      45             0   \n",
       "\n",
       "            Income  Gender  x0_America  x0_Asia  x0_Europe  x0_Oceania  ...  \\\n",
       "CITIZEN_ID                                                              ...   \n",
       "12486            1       1         0.0      0.0        1.0         0.0  ...   \n",
       "12487            1       1         0.0      0.0        1.0         0.0  ...   \n",
       "12488            1       1         0.0      0.0        1.0         0.0  ...   \n",
       "12489            1       1         0.0      0.0        1.0         0.0  ...   \n",
       "12490            1       1         0.0      0.0        1.0         0.0  ...   \n",
       "\n",
       "            x4_IT  x4_Machine Operators & Inspectors  x4_Management  \\\n",
       "CITIZEN_ID                                                            \n",
       "12486         0.0                                0.0            0.0   \n",
       "12487         0.0                                0.0            0.0   \n",
       "12488         0.0                                0.0            0.0   \n",
       "12489         0.0                                0.0            0.0   \n",
       "12490         0.0                                0.0            0.0   \n",
       "\n",
       "            x4_Other services  x4_Professor  x4_Repair & constructions  \\\n",
       "CITIZEN_ID                                                               \n",
       "12486                     0.0           0.0                        1.0   \n",
       "12487                     0.0           0.0                        1.0   \n",
       "12488                     0.0           0.0                        0.0   \n",
       "12489                     0.0           0.0                        0.0   \n",
       "12490                     0.0           1.0                        0.0   \n",
       "\n",
       "            x4_Sales  x4_Security  x4_Transports  x4_Unknown  \n",
       "CITIZEN_ID                                                    \n",
       "12486            0.0          0.0            0.0         0.0  \n",
       "12487            0.0          0.0            0.0         0.0  \n",
       "12488            1.0          0.0            0.0         0.0  \n",
       "12489            0.0          1.0            0.0         0.0  \n",
       "12490            0.0          0.0            0.0         0.0  \n",
       "\n",
       "[5 rows x 38 columns]"
      ]
     },
     "execution_count": 48,
     "metadata": {},
     "output_type": "execute_result"
    }
   ],
   "source": [
    "# Reassigning df to contain ohc variables\n",
    "df_ohc_train = pd.concat([df_ohc_train.drop(columns=non_metric_features), ohc_df_train], axis=1)\n",
    "\n",
    "df_ohc_test = pd.concat([df_ohc_test.drop(columns=non_metric_features), ohc_df_test], axis=1)\n",
    "\n",
    "df_ohc_train.head()"
   ]
  },
  {
   "cell_type": "code",
   "execution_count": 49,
   "metadata": {
    "scrolled": false
   },
   "outputs": [
    {
     "data": {
      "text/html": [
       "<div>\n",
       "<style scoped>\n",
       "    .dataframe tbody tr th:only-of-type {\n",
       "        vertical-align: middle;\n",
       "    }\n",
       "\n",
       "    .dataframe tbody tr th {\n",
       "        vertical-align: top;\n",
       "    }\n",
       "\n",
       "    .dataframe thead th {\n",
       "        text-align: right;\n",
       "    }\n",
       "</style>\n",
       "<table border=\"1\" class=\"dataframe\">\n",
       "  <thead>\n",
       "    <tr style=\"text-align: right;\">\n",
       "      <th></th>\n",
       "      <th>Age</th>\n",
       "      <th>Years of Education</th>\n",
       "      <th>Working Hours per week</th>\n",
       "      <th>Ticket Price</th>\n",
       "      <th>Income</th>\n",
       "      <th>Gender</th>\n",
       "      <th>x0_America</th>\n",
       "      <th>x0_Asia</th>\n",
       "      <th>x0_Europe</th>\n",
       "      <th>x0_Oceania</th>\n",
       "      <th>...</th>\n",
       "      <th>x4_IT</th>\n",
       "      <th>x4_Machine Operators &amp; Inspectors</th>\n",
       "      <th>x4_Management</th>\n",
       "      <th>x4_Other services</th>\n",
       "      <th>x4_Professor</th>\n",
       "      <th>x4_Repair &amp; constructions</th>\n",
       "      <th>x4_Sales</th>\n",
       "      <th>x4_Security</th>\n",
       "      <th>x4_Transports</th>\n",
       "      <th>x4_Unknown</th>\n",
       "    </tr>\n",
       "    <tr>\n",
       "      <th>CITIZEN_ID</th>\n",
       "      <th></th>\n",
       "      <th></th>\n",
       "      <th></th>\n",
       "      <th></th>\n",
       "      <th></th>\n",
       "      <th></th>\n",
       "      <th></th>\n",
       "      <th></th>\n",
       "      <th></th>\n",
       "      <th></th>\n",
       "      <th></th>\n",
       "      <th></th>\n",
       "      <th></th>\n",
       "      <th></th>\n",
       "      <th></th>\n",
       "      <th></th>\n",
       "      <th></th>\n",
       "      <th></th>\n",
       "      <th></th>\n",
       "      <th></th>\n",
       "      <th></th>\n",
       "    </tr>\n",
       "  </thead>\n",
       "  <tbody>\n",
       "    <tr>\n",
       "      <th>12486</th>\n",
       "      <td>45</td>\n",
       "      <td>13</td>\n",
       "      <td>40</td>\n",
       "      <td>2273</td>\n",
       "      <td>1</td>\n",
       "      <td>1</td>\n",
       "      <td>0.0</td>\n",
       "      <td>0.0</td>\n",
       "      <td>1.0</td>\n",
       "      <td>0.0</td>\n",
       "      <td>...</td>\n",
       "      <td>0.0</td>\n",
       "      <td>0.0</td>\n",
       "      <td>0.0</td>\n",
       "      <td>0.0</td>\n",
       "      <td>0.0</td>\n",
       "      <td>1.0</td>\n",
       "      <td>0.0</td>\n",
       "      <td>0.0</td>\n",
       "      <td>0.0</td>\n",
       "      <td>0.0</td>\n",
       "    </tr>\n",
       "    <tr>\n",
       "      <th>12487</th>\n",
       "      <td>42</td>\n",
       "      <td>12</td>\n",
       "      <td>40</td>\n",
       "      <td>0</td>\n",
       "      <td>1</td>\n",
       "      <td>1</td>\n",
       "      <td>0.0</td>\n",
       "      <td>0.0</td>\n",
       "      <td>1.0</td>\n",
       "      <td>0.0</td>\n",
       "      <td>...</td>\n",
       "      <td>0.0</td>\n",
       "      <td>0.0</td>\n",
       "      <td>0.0</td>\n",
       "      <td>0.0</td>\n",
       "      <td>0.0</td>\n",
       "      <td>1.0</td>\n",
       "      <td>0.0</td>\n",
       "      <td>0.0</td>\n",
       "      <td>0.0</td>\n",
       "      <td>0.0</td>\n",
       "    </tr>\n",
       "    <tr>\n",
       "      <th>12488</th>\n",
       "      <td>39</td>\n",
       "      <td>12</td>\n",
       "      <td>46</td>\n",
       "      <td>2321</td>\n",
       "      <td>1</td>\n",
       "      <td>1</td>\n",
       "      <td>0.0</td>\n",
       "      <td>0.0</td>\n",
       "      <td>1.0</td>\n",
       "      <td>0.0</td>\n",
       "      <td>...</td>\n",
       "      <td>0.0</td>\n",
       "      <td>0.0</td>\n",
       "      <td>0.0</td>\n",
       "      <td>0.0</td>\n",
       "      <td>0.0</td>\n",
       "      <td>0.0</td>\n",
       "      <td>1.0</td>\n",
       "      <td>0.0</td>\n",
       "      <td>0.0</td>\n",
       "      <td>0.0</td>\n",
       "    </tr>\n",
       "    <tr>\n",
       "      <th>12489</th>\n",
       "      <td>63</td>\n",
       "      <td>11</td>\n",
       "      <td>37</td>\n",
       "      <td>-5395</td>\n",
       "      <td>1</td>\n",
       "      <td>1</td>\n",
       "      <td>0.0</td>\n",
       "      <td>0.0</td>\n",
       "      <td>1.0</td>\n",
       "      <td>0.0</td>\n",
       "      <td>...</td>\n",
       "      <td>0.0</td>\n",
       "      <td>0.0</td>\n",
       "      <td>0.0</td>\n",
       "      <td>0.0</td>\n",
       "      <td>0.0</td>\n",
       "      <td>0.0</td>\n",
       "      <td>0.0</td>\n",
       "      <td>1.0</td>\n",
       "      <td>0.0</td>\n",
       "      <td>0.0</td>\n",
       "    </tr>\n",
       "    <tr>\n",
       "      <th>12490</th>\n",
       "      <td>33</td>\n",
       "      <td>21</td>\n",
       "      <td>45</td>\n",
       "      <td>0</td>\n",
       "      <td>1</td>\n",
       "      <td>1</td>\n",
       "      <td>0.0</td>\n",
       "      <td>0.0</td>\n",
       "      <td>1.0</td>\n",
       "      <td>0.0</td>\n",
       "      <td>...</td>\n",
       "      <td>0.0</td>\n",
       "      <td>0.0</td>\n",
       "      <td>0.0</td>\n",
       "      <td>0.0</td>\n",
       "      <td>1.0</td>\n",
       "      <td>0.0</td>\n",
       "      <td>0.0</td>\n",
       "      <td>0.0</td>\n",
       "      <td>0.0</td>\n",
       "      <td>0.0</td>\n",
       "    </tr>\n",
       "  </tbody>\n",
       "</table>\n",
       "<p>5 rows × 38 columns</p>\n",
       "</div>"
      ],
      "text/plain": [
       "            Age  Years of Education  Working Hours per week  Ticket Price  \\\n",
       "CITIZEN_ID                                                                  \n",
       "12486        45                  13                      40          2273   \n",
       "12487        42                  12                      40             0   \n",
       "12488        39                  12                      46          2321   \n",
       "12489        63                  11                      37         -5395   \n",
       "12490        33                  21                      45             0   \n",
       "\n",
       "            Income  Gender  x0_America  x0_Asia  x0_Europe  x0_Oceania  ...  \\\n",
       "CITIZEN_ID                                                              ...   \n",
       "12486            1       1         0.0      0.0        1.0         0.0  ...   \n",
       "12487            1       1         0.0      0.0        1.0         0.0  ...   \n",
       "12488            1       1         0.0      0.0        1.0         0.0  ...   \n",
       "12489            1       1         0.0      0.0        1.0         0.0  ...   \n",
       "12490            1       1         0.0      0.0        1.0         0.0  ...   \n",
       "\n",
       "            x4_IT  x4_Machine Operators & Inspectors  x4_Management  \\\n",
       "CITIZEN_ID                                                            \n",
       "12486         0.0                                0.0            0.0   \n",
       "12487         0.0                                0.0            0.0   \n",
       "12488         0.0                                0.0            0.0   \n",
       "12489         0.0                                0.0            0.0   \n",
       "12490         0.0                                0.0            0.0   \n",
       "\n",
       "            x4_Other services  x4_Professor  x4_Repair & constructions  \\\n",
       "CITIZEN_ID                                                               \n",
       "12486                     0.0           0.0                        1.0   \n",
       "12487                     0.0           0.0                        1.0   \n",
       "12488                     0.0           0.0                        0.0   \n",
       "12489                     0.0           0.0                        0.0   \n",
       "12490                     0.0           1.0                        0.0   \n",
       "\n",
       "            x4_Sales  x4_Security  x4_Transports  x4_Unknown  \n",
       "CITIZEN_ID                                                    \n",
       "12486            0.0          0.0            0.0         0.0  \n",
       "12487            0.0          0.0            0.0         0.0  \n",
       "12488            1.0          0.0            0.0         0.0  \n",
       "12489            0.0          1.0            0.0         0.0  \n",
       "12490            0.0          0.0            0.0         0.0  \n",
       "\n",
       "[5 rows x 38 columns]"
      ]
     },
     "execution_count": 49,
     "metadata": {},
     "output_type": "execute_result"
    }
   ],
   "source": [
    "df_ohc_train.head()"
   ]
  },
  {
   "cell_type": "code",
   "execution_count": 50,
   "metadata": {},
   "outputs": [
    {
     "data": {
      "text/html": [
       "<div>\n",
       "<style scoped>\n",
       "    .dataframe tbody tr th:only-of-type {\n",
       "        vertical-align: middle;\n",
       "    }\n",
       "\n",
       "    .dataframe tbody tr th {\n",
       "        vertical-align: top;\n",
       "    }\n",
       "\n",
       "    .dataframe thead th {\n",
       "        text-align: right;\n",
       "    }\n",
       "</style>\n",
       "<table border=\"1\" class=\"dataframe\">\n",
       "  <thead>\n",
       "    <tr style=\"text-align: right;\">\n",
       "      <th></th>\n",
       "      <th>Age</th>\n",
       "      <th>Years of Education</th>\n",
       "      <th>Working Hours per week</th>\n",
       "      <th>Ticket Price</th>\n",
       "      <th>Gender</th>\n",
       "      <th>x0_America</th>\n",
       "      <th>x0_Asia</th>\n",
       "      <th>x0_Europe</th>\n",
       "      <th>x0_Oceania</th>\n",
       "      <th>x1_Married</th>\n",
       "      <th>...</th>\n",
       "      <th>x4_IT</th>\n",
       "      <th>x4_Machine Operators &amp; Inspectors</th>\n",
       "      <th>x4_Management</th>\n",
       "      <th>x4_Other services</th>\n",
       "      <th>x4_Professor</th>\n",
       "      <th>x4_Repair &amp; constructions</th>\n",
       "      <th>x4_Sales</th>\n",
       "      <th>x4_Security</th>\n",
       "      <th>x4_Transports</th>\n",
       "      <th>x4_Unknown</th>\n",
       "    </tr>\n",
       "    <tr>\n",
       "      <th>CITIZEN_ID</th>\n",
       "      <th></th>\n",
       "      <th></th>\n",
       "      <th></th>\n",
       "      <th></th>\n",
       "      <th></th>\n",
       "      <th></th>\n",
       "      <th></th>\n",
       "      <th></th>\n",
       "      <th></th>\n",
       "      <th></th>\n",
       "      <th></th>\n",
       "      <th></th>\n",
       "      <th></th>\n",
       "      <th></th>\n",
       "      <th></th>\n",
       "      <th></th>\n",
       "      <th></th>\n",
       "      <th></th>\n",
       "      <th></th>\n",
       "      <th></th>\n",
       "      <th></th>\n",
       "    </tr>\n",
       "  </thead>\n",
       "  <tbody>\n",
       "    <tr>\n",
       "      <th>34886</th>\n",
       "      <td>36</td>\n",
       "      <td>16</td>\n",
       "      <td>40</td>\n",
       "      <td>0</td>\n",
       "      <td>1</td>\n",
       "      <td>0.0</td>\n",
       "      <td>0.0</td>\n",
       "      <td>1.0</td>\n",
       "      <td>0.0</td>\n",
       "      <td>1.0</td>\n",
       "      <td>...</td>\n",
       "      <td>0.0</td>\n",
       "      <td>0.0</td>\n",
       "      <td>0.0</td>\n",
       "      <td>0.0</td>\n",
       "      <td>0.0</td>\n",
       "      <td>0.0</td>\n",
       "      <td>1.0</td>\n",
       "      <td>0.0</td>\n",
       "      <td>0.0</td>\n",
       "      <td>0.0</td>\n",
       "    </tr>\n",
       "    <tr>\n",
       "      <th>34887</th>\n",
       "      <td>34</td>\n",
       "      <td>16</td>\n",
       "      <td>36</td>\n",
       "      <td>0</td>\n",
       "      <td>0</td>\n",
       "      <td>0.0</td>\n",
       "      <td>0.0</td>\n",
       "      <td>1.0</td>\n",
       "      <td>0.0</td>\n",
       "      <td>0.0</td>\n",
       "      <td>...</td>\n",
       "      <td>0.0</td>\n",
       "      <td>0.0</td>\n",
       "      <td>0.0</td>\n",
       "      <td>0.0</td>\n",
       "      <td>1.0</td>\n",
       "      <td>0.0</td>\n",
       "      <td>0.0</td>\n",
       "      <td>0.0</td>\n",
       "      <td>0.0</td>\n",
       "      <td>0.0</td>\n",
       "    </tr>\n",
       "    <tr>\n",
       "      <th>34888</th>\n",
       "      <td>28</td>\n",
       "      <td>13</td>\n",
       "      <td>50</td>\n",
       "      <td>-12940</td>\n",
       "      <td>1</td>\n",
       "      <td>0.0</td>\n",
       "      <td>0.0</td>\n",
       "      <td>1.0</td>\n",
       "      <td>0.0</td>\n",
       "      <td>0.0</td>\n",
       "      <td>...</td>\n",
       "      <td>0.0</td>\n",
       "      <td>0.0</td>\n",
       "      <td>1.0</td>\n",
       "      <td>0.0</td>\n",
       "      <td>0.0</td>\n",
       "      <td>0.0</td>\n",
       "      <td>0.0</td>\n",
       "      <td>0.0</td>\n",
       "      <td>0.0</td>\n",
       "      <td>0.0</td>\n",
       "    </tr>\n",
       "    <tr>\n",
       "      <th>34889</th>\n",
       "      <td>32</td>\n",
       "      <td>12</td>\n",
       "      <td>48</td>\n",
       "      <td>1827</td>\n",
       "      <td>1</td>\n",
       "      <td>0.0</td>\n",
       "      <td>0.0</td>\n",
       "      <td>1.0</td>\n",
       "      <td>0.0</td>\n",
       "      <td>1.0</td>\n",
       "      <td>...</td>\n",
       "      <td>0.0</td>\n",
       "      <td>0.0</td>\n",
       "      <td>0.0</td>\n",
       "      <td>0.0</td>\n",
       "      <td>1.0</td>\n",
       "      <td>0.0</td>\n",
       "      <td>0.0</td>\n",
       "      <td>0.0</td>\n",
       "      <td>0.0</td>\n",
       "      <td>0.0</td>\n",
       "    </tr>\n",
       "    <tr>\n",
       "      <th>34890</th>\n",
       "      <td>37</td>\n",
       "      <td>15</td>\n",
       "      <td>45</td>\n",
       "      <td>0</td>\n",
       "      <td>1</td>\n",
       "      <td>0.0</td>\n",
       "      <td>0.0</td>\n",
       "      <td>1.0</td>\n",
       "      <td>0.0</td>\n",
       "      <td>1.0</td>\n",
       "      <td>...</td>\n",
       "      <td>0.0</td>\n",
       "      <td>0.0</td>\n",
       "      <td>0.0</td>\n",
       "      <td>0.0</td>\n",
       "      <td>1.0</td>\n",
       "      <td>0.0</td>\n",
       "      <td>0.0</td>\n",
       "      <td>0.0</td>\n",
       "      <td>0.0</td>\n",
       "      <td>0.0</td>\n",
       "    </tr>\n",
       "  </tbody>\n",
       "</table>\n",
       "<p>5 rows × 37 columns</p>\n",
       "</div>"
      ],
      "text/plain": [
       "            Age  Years of Education  Working Hours per week  Ticket Price  \\\n",
       "CITIZEN_ID                                                                  \n",
       "34886        36                  16                      40             0   \n",
       "34887        34                  16                      36             0   \n",
       "34888        28                  13                      50        -12940   \n",
       "34889        32                  12                      48          1827   \n",
       "34890        37                  15                      45             0   \n",
       "\n",
       "            Gender  x0_America  x0_Asia  x0_Europe  x0_Oceania  x1_Married  \\\n",
       "CITIZEN_ID                                                                   \n",
       "34886            1         0.0      0.0        1.0         0.0         1.0   \n",
       "34887            0         0.0      0.0        1.0         0.0         0.0   \n",
       "34888            1         0.0      0.0        1.0         0.0         0.0   \n",
       "34889            1         0.0      0.0        1.0         0.0         1.0   \n",
       "34890            1         0.0      0.0        1.0         0.0         1.0   \n",
       "\n",
       "            ...  x4_IT  x4_Machine Operators & Inspectors  x4_Management  \\\n",
       "CITIZEN_ID  ...                                                            \n",
       "34886       ...    0.0                                0.0            0.0   \n",
       "34887       ...    0.0                                0.0            0.0   \n",
       "34888       ...    0.0                                0.0            1.0   \n",
       "34889       ...    0.0                                0.0            0.0   \n",
       "34890       ...    0.0                                0.0            0.0   \n",
       "\n",
       "            x4_Other services  x4_Professor  x4_Repair & constructions  \\\n",
       "CITIZEN_ID                                                               \n",
       "34886                     0.0           0.0                        0.0   \n",
       "34887                     0.0           1.0                        0.0   \n",
       "34888                     0.0           0.0                        0.0   \n",
       "34889                     0.0           1.0                        0.0   \n",
       "34890                     0.0           1.0                        0.0   \n",
       "\n",
       "            x4_Sales  x4_Security  x4_Transports  x4_Unknown  \n",
       "CITIZEN_ID                                                    \n",
       "34886            1.0          0.0            0.0         0.0  \n",
       "34887            0.0          0.0            0.0         0.0  \n",
       "34888            0.0          0.0            0.0         0.0  \n",
       "34889            0.0          0.0            0.0         0.0  \n",
       "34890            0.0          0.0            0.0         0.0  \n",
       "\n",
       "[5 rows x 37 columns]"
      ]
     },
     "execution_count": 50,
     "metadata": {},
     "output_type": "execute_result"
    }
   ],
   "source": [
    "df_ohc_test.head()"
   ]
  },
  {
   "cell_type": "markdown",
   "metadata": {},
   "source": [
    "# DEALING WITH OUTLIERS"
   ]
  },
  {
   "cell_type": "code",
   "execution_count": 51,
   "metadata": {},
   "outputs": [],
   "source": [
    "numeric_variables = ['Age', 'Years of Education', 'Working Hours per week', 'Ticket Price']"
   ]
  },
  {
   "cell_type": "code",
   "execution_count": 52,
   "metadata": {},
   "outputs": [],
   "source": [
    "df_outlier_train = df_ohc_train.copy()\n",
    "df_outlier_test = df_ohc_test.copy()"
   ]
  },
  {
   "cell_type": "code",
   "execution_count": 53,
   "metadata": {},
   "outputs": [],
   "source": [
    "#TRAIN"
   ]
  },
  {
   "cell_type": "code",
   "execution_count": 54,
   "metadata": {},
   "outputs": [
    {
     "data": {
      "image/png": "[encoded data removed]",
      "text/plain": [
       "<Figure size 1440x1080 with 4 Axes>"
      ]
     },
     "metadata": {
      "needs_background": "light"
     },
     "output_type": "display_data"
    }
   ],
   "source": [
    "# Prepare figure. Create individual axes where each box plot will be placed\n",
    "fig, axes = plt.subplots(2, ceil(len(numeric_variables) / 2), figsize=(20, 15))\n",
    "\n",
    "# Plot data\n",
    "# Iterate across axes objects and associate each box plot (hint: use the ax argument):\n",
    "for ax, feat in zip(axes.flatten(), numeric_variables): # Notice the zip() function and flatten() method\n",
    "    sns.boxplot(x=df_outlier_train[feat], ax=ax)\n",
    "    \n",
    "# Layout\n",
    "# Add a centered title to the figure:\n",
    "title = \"Numeric Variables' Box Plots\"\n",
    "\n",
    "plt.suptitle(title)\n",
    "\n",
    "plt.show()"
   ]
  },
  {
   "cell_type": "code",
   "execution_count": 55,
   "metadata": {},
   "outputs": [
    {
     "data": {
      "image/png": "[encoded data removed]",
      "text/plain": [
       "<Figure size 1440x1080 with 4 Axes>"
      ]
     },
     "metadata": {},
     "output_type": "display_data"
    }
   ],
   "source": [
    "# All Numeric Variables' Histograms in one figure\n",
    "sns.set()\n",
    "\n",
    "# Prepare figure. Create individual axes where each histogram will be placed\n",
    "fig, axes = plt.subplots(2, ceil(len(numeric_variables) / 2), figsize=(20, 15))\n",
    "\n",
    "# Plot data\n",
    "# Iterate across axes objects and associate each histogram (hint: use the ax.hist() instead of plt.hist()):\n",
    "for ax, feat in zip(axes.flatten(), numeric_variables): # Notice the zip() function and flatten() method\n",
    "    ax.hist(df_outlier_train[feat])\n",
    "    ax.set_title(feat)\n",
    "    ax.set_xlim(min(df_outlier_train[feat]), max(df_outlier_train[feat]))\n",
    "    \n",
    "# Layout\n",
    "# Add a centered title to the figure:\n",
    "title = \"Numeric Variables' Histograms\"\n",
    "\n",
    "plt.suptitle(title)\n",
    "\n",
    "plt.show()"
   ]
  },
  {
   "cell_type": "code",
   "execution_count": 56,
   "metadata": {},
   "outputs": [],
   "source": [
    "#Outliers will be removed manually as it visually there aren't many, except for one/few in ticket price; these will be removed; we do realize this method may be subjective, but given the nature of the data, we feel like this is a good approach for this dataset\n",
    "\n",
    "filters1 = (df_outlier_train['Ticket Price']>=-20000)\n",
    "\n",
    "df_outlier_train = df_outlier_train[filters1]"
   ]
  },
  {
   "cell_type": "code",
   "execution_count": 57,
   "metadata": {},
   "outputs": [
    {
     "data": {
      "image/png": "[encoded data removed]",
      "text/plain": [
       "<Figure size 1440x1080 with 4 Axes>"
      ]
     },
     "metadata": {},
     "output_type": "display_data"
    }
   ],
   "source": [
    "# All Numeric Variables' Histograms in one figure\n",
    "sns.set()\n",
    "\n",
    "# Prepare figure. Create individual axes where each histogram will be placed\n",
    "fig, axes = plt.subplots(2, ceil(len(numeric_variables) / 2), figsize=(20, 15))\n",
    "\n",
    "# Plot data\n",
    "# Iterate across axes objects and associate each histogram (hint: use the ax.hist() instead of plt.hist()):\n",
    "for ax, feat in zip(axes.flatten(), numeric_variables): # Notice the zip() function and flatten() method\n",
    "    ax.hist(df_outlier_train[feat])\n",
    "    ax.set_title(feat)\n",
    "    ax.set_xlim(min(df_outlier_train[feat]), max(df_outlier_train[feat]))\n",
    "    \n",
    "# Layout\n",
    "# Add a centered title to the figure:\n",
    "title = \"Numeric Variables' Histograms\"\n",
    "\n",
    "plt.suptitle(title)\n",
    "\n",
    "plt.show()"
   ]
  },
  {
   "cell_type": "code",
   "execution_count": 58,
   "metadata": {},
   "outputs": [
    {
     "name": "stdout",
     "output_type": "stream",
     "text": [
      "Proportion of data kept after removing outliers: 0.9922\n"
     ]
    }
   ],
   "source": [
    "print('Proportion of data kept after removing outliers:', np.round(df_outlier_train.shape[0] / df_ohc_train.shape[0], 4))"
   ]
  },
  {
   "cell_type": "code",
   "execution_count": 59,
   "metadata": {},
   "outputs": [],
   "source": [
    "#TEST"
   ]
  },
  {
   "cell_type": "code",
   "execution_count": 60,
   "metadata": {},
   "outputs": [
    {
     "data": {
      "image/png": "[encoded data removed]",
      "text/plain": [
       "<Figure size 1440x1080 with 4 Axes>"
      ]
     },
     "metadata": {},
     "output_type": "display_data"
    }
   ],
   "source": [
    "# Prepare figure. Create individual axes where each box plot will be placed\n",
    "fig, axes = plt.subplots(2, ceil(len(numeric_variables) / 2), figsize=(20, 15))\n",
    "\n",
    "# Plot data\n",
    "# Iterate across axes objects and associate each box plot (hint: use the ax argument):\n",
    "for ax, feat in zip(axes.flatten(), numeric_variables): # Notice the zip() function and flatten() method\n",
    "    sns.boxplot(x=df_outlier_test[feat], ax=ax)\n",
    "    \n",
    "# Layout\n",
    "# Add a centered title to the figure:\n",
    "title = \"Numeric Variables' Box Plots\"\n",
    "\n",
    "plt.suptitle(title)\n",
    "\n",
    "plt.show()"
   ]
  },
  {
   "cell_type": "code",
   "execution_count": 61,
   "metadata": {},
   "outputs": [
    {
     "data": {
      "image/png": "[encoded data removed]",
      "text/plain": [
       "<Figure size 1440x1080 with 4 Axes>"
      ]
     },
     "metadata": {},
     "output_type": "display_data"
    }
   ],
   "source": [
    "# All Numeric Variables' Histograms in one figure\n",
    "sns.set()\n",
    "\n",
    "# Prepare figure. Create individual axes where each histogram will be placed\n",
    "fig, axes = plt.subplots(2, ceil(len(numeric_variables) / 2), figsize=(20, 15))\n",
    "\n",
    "# Plot data\n",
    "# Iterate across axes objects and associate each histogram (hint: use the ax.hist() instead of plt.hist()):\n",
    "for ax, feat in zip(axes.flatten(), numeric_variables): # Notice the zip() function and flatten() method\n",
    "    ax.hist(df_outlier_test[feat])\n",
    "    ax.set_title(feat)\n",
    "    ax.set_xlim(min(df_outlier_test[feat]), max(df_outlier_test[feat]))\n",
    "    \n",
    "# Layout\n",
    "# Add a centered title to the figure:\n",
    "title = \"Numeric Variables' Histograms\"\n",
    "\n",
    "plt.suptitle(title)\n",
    "\n",
    "plt.show()"
   ]
  },
  {
   "cell_type": "code",
   "execution_count": 62,
   "metadata": {},
   "outputs": [],
   "source": [
    "#Outliers will be removed manually as it visually there aren't many, except for one/few in ticket price; these will be removed; we do realize this method may be subjective, but given the nature of the data, we feel like this is a good approach for this dataset\n",
    "\n",
    "filters1 = (df_outlier_test['Ticket Price']>=-20000)\n",
    "\n",
    "df_outlier_test = df_outlier_test[filters1]"
   ]
  },
  {
   "cell_type": "code",
   "execution_count": 63,
   "metadata": {},
   "outputs": [
    {
     "data": {
      "image/png": "[encoded data removed]",
      "text/plain": [
       "<Figure size 1440x1080 with 4 Axes>"
      ]
     },
     "metadata": {},
     "output_type": "display_data"
    }
   ],
   "source": [
    "# All Numeric Variables' Histograms in one figure\n",
    "sns.set()\n",
    "\n",
    "# Prepare figure. Create individual axes where each histogram will be placed\n",
    "fig, axes = plt.subplots(2, ceil(len(numeric_variables) / 2), figsize=(20, 15))\n",
    "\n",
    "# Plot data\n",
    "# Iterate across axes objects and associate each histogram (hint: use the ax.hist() instead of plt.hist()):\n",
    "for ax, feat in zip(axes.flatten(), numeric_variables): # Notice the zip() function and flatten() method\n",
    "    ax.hist(df_outlier_test[feat])\n",
    "    ax.set_title(feat)\n",
    "    ax.set_xlim(min(df_outlier_test[feat]), max(df_outlier_test[feat]))\n",
    "    \n",
    "# Layout\n",
    "# Add a centered title to the figure:\n",
    "title = \"Numeric Variables' Histograms\"\n",
    "\n",
    "plt.suptitle(title)\n",
    "\n",
    "plt.show()"
   ]
  },
  {
   "cell_type": "code",
   "execution_count": 64,
   "metadata": {},
   "outputs": [
    {
     "name": "stdout",
     "output_type": "stream",
     "text": [
      "Proportion of data kept after removing outliers: 0.992\n"
     ]
    }
   ],
   "source": [
    "print('Proportion of data kept after removing outliers:', np.round(df_outlier_test.shape[0] / df_ohc_test.shape[0], 4))"
   ]
  },
  {
   "cell_type": "markdown",
   "metadata": {},
   "source": [
    "# FEATURE SELECTION"
   ]
  },
  {
   "cell_type": "code",
   "execution_count": 65,
   "metadata": {},
   "outputs": [],
   "source": [
    "non_metric_features = ['Native Continent', 'Marital Status', 'Lives with', 'Employment Sector', 'Role']"
   ]
  },
  {
   "cell_type": "code",
   "execution_count": 66,
   "metadata": {},
   "outputs": [],
   "source": [
    "def bar_charts_categorical(df, feature, target):\n",
    "    cont_tab = pd.crosstab(df[feature], df[target], margins = True)\n",
    "    categories = cont_tab.index[:-1]\n",
    "        \n",
    "    fig = plt.figure(figsize=(15, 5))\n",
    "    \n",
    "    plt.subplot(121)\n",
    "    p1 = plt.bar(categories, cont_tab.iloc[:-1, 0].values, 0.55, color=\"gray\")\n",
    "    p2 = plt.bar(categories, cont_tab.iloc[:-1, 1].values, 0.55, bottom=cont_tab.iloc[:-1, 0], color=\"skyblue\")\n",
    "    plt.legend((p2[0], p1[0]), ('$y_i=1$', '$y_i=0$'))\n",
    "    plt.xticks(rotation='vertical')\n",
    "    plt.title(\"Frequency bar chart\")\n",
    "    plt.xlabel(feature)\n",
    "    plt.ylabel(\"$Frequency$\")\n",
    "\n",
    "    # auxiliary data for 122\n",
    "    obs_pct = np.array([np.divide(cont_tab.iloc[:-1, 0].values, cont_tab.iloc[:-1, 2].values), \n",
    "                        np.divide(cont_tab.iloc[:-1, 1].values, cont_tab.iloc[:-1, 2].values)])\n",
    "      \n",
    "    plt.subplot(122)\n",
    "    p1 = plt.bar(categories, obs_pct[0], 0.55, color=\"gray\")\n",
    "    p2 = plt.bar(categories, obs_pct[1], 0.55, bottom=obs_pct[0], color=\"skyblue\")\n",
    "    plt.xticks(rotation='vertical')\n",
    "    plt.legend((p2[0], p1[0]), ('$y_i=1$', '$y_i=0$'))\n",
    "    plt.title(\"Proportion bar chart\")\n",
    "    plt.xlabel(feature)\n",
    "    plt.ylabel(\"$p$\")\n",
    "\n",
    "    plt.show()"
   ]
  },
  {
   "cell_type": "code",
   "execution_count": 67,
   "metadata": {},
   "outputs": [
    {
     "data": {
      "image/png": "[encoded data removed]",
      "text/plain": [
       "<Figure size 1080x360 with 2 Axes>"
      ]
     },
     "metadata": {},
     "output_type": "display_data"
    }
   ],
   "source": [
    "bar_charts_categorical(df_train, 'Native Continent', \"Income\")"
   ]
  },
  {
   "cell_type": "code",
   "execution_count": 68,
   "metadata": {},
   "outputs": [
    {
     "data": {
      "image/png": "[encoded data removed]",
      "text/plain": [
       "<Figure size 1080x360 with 2 Axes>"
      ]
     },
     "metadata": {},
     "output_type": "display_data"
    }
   ],
   "source": [
    "bar_charts_categorical(df_train, 'Marital Status', \"Income\")"
   ]
  },
  {
   "cell_type": "code",
   "execution_count": 69,
   "metadata": {},
   "outputs": [
    {
     "data": {
      "image/png": "[encoded data removed]",
      "text/plain": [
       "<Figure size 1080x360 with 2 Axes>"
      ]
     },
     "metadata": {},
     "output_type": "display_data"
    }
   ],
   "source": [
    "bar_charts_categorical(df_train, 'Lives with', \"Income\")"
   ]
  },
  {
   "cell_type": "code",
   "execution_count": 70,
   "metadata": {},
   "outputs": [
    {
     "data": {
      "image/png": "[encoded data removed]",
      "text/plain": [
       "<Figure size 1080x360 with 2 Axes>"
      ]
     },
     "metadata": {},
     "output_type": "display_data"
    }
   ],
   "source": [
    "bar_charts_categorical(df_train, 'Employment Sector', \"Income\")"
   ]
  },
  {
   "cell_type": "code",
   "execution_count": 71,
   "metadata": {},
   "outputs": [
    {
     "data": {
      "image/png": "[encoded data removed]",
      "text/plain": [
       "<Figure size 1080x360 with 2 Axes>"
      ]
     },
     "metadata": {},
     "output_type": "display_data"
    }
   ],
   "source": [
    "bar_charts_categorical(df_train, 'Role', \"Income\")"
   ]
  },
  {
   "cell_type": "markdown",
   "metadata": {},
   "source": [
    "DATASETS TO WORK WITH FROM NOW ON:"
   ]
  },
  {
   "cell_type": "code",
   "execution_count": 72,
   "metadata": {},
   "outputs": [],
   "source": [
    "df_train = df_outlier_train.copy()\n",
    "df_test = df_outlier_test.copy()"
   ]
  }
 ],
 "metadata": {
  "kernelspec": {
   "display_name": "Python 3",
   "language": "python",
   "name": "python3"
  },
  "language_info": {
   "codemirror_mode": {
    "name": "ipython",
    "version": 3
   },
   "file_extension": ".py",
   "mimetype": "text/x-python",
   "name": "python",
   "nbconvert_exporter": "python",
   "pygments_lexer": "ipython3",
   "version": "3.8.3"
  }
 },
 "nbformat": 4,
 "nbformat_minor": 4
}
